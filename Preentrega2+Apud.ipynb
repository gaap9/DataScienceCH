{
  "nbformat": 4,
  "nbformat_minor": 0,
  "metadata": {
    "colab": {
      "provenance": [],
      "collapsed_sections": [],
      "toc_visible": true,
      "include_colab_link": true
    },
    "kernelspec": {
      "name": "python3",
      "display_name": "Python 3"
    },
    "language_info": {
      "name": "python"
    }
  },
  "cells": [
    {
      "cell_type": "markdown",
      "metadata": {
        "id": "view-in-github",
        "colab_type": "text"
      },
      "source": [
        "<a href=\"https://colab.research.google.com/github/gaap9/DataScienceCH/blob/main/Preentrega2%2BApud.ipynb\" target=\"_parent\"><img src=\"https://colab.research.google.com/assets/colab-badge.svg\" alt=\"Open In Colab\"/></a>"
      ]
    },
    {
      "cell_type": "markdown",
      "source": [
        "# **Netflix - TV Shows and Movies**"
      ],
      "metadata": {
        "id": "kps5fbmJyJhf"
      }
    },
    {
      "cell_type": "markdown",
      "source": [
        "*Por: María Gabriela Apud - Curso Data Science - Comisión 29795 - Coderhouse*\n",
        "\n"
      ],
      "metadata": {
        "id": "eZNSoZLczRHa"
      }
    },
    {
      "cell_type": "markdown",
      "source": [
        "# **Storytelling Netflix**"
      ],
      "metadata": {
        "id": "9SArqIYlAIFv"
      }
    },
    {
      "cell_type": "markdown",
      "source": [
        "Netflix ha estado en auge y se ha convertido en una de las mayores plataformas de transmisión de películas y series en línea. Este conjunto de datos proporciona información crucial sobre los contenidos proporcionados por Netflix. ¡Comencemos a explorar y aprender juntos!"
      ],
      "metadata": {
        "id": "Rrg9kZmqAHXL"
      }
    },
    {
      "cell_type": "markdown",
      "source": [
        "![descarga (1).jpeg](data:image/jpeg;base64,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)"
      ],
      "metadata": {
        "id": "YQNZ-7-SlD2B"
      }
    },
    {
      "cell_type": "markdown",
      "source": [
        "##**Abstract**"
      ],
      "metadata": {
        "id": "KNV_HsEueObB"
      }
    },
    {
      "cell_type": "markdown",
      "source": [
        "En el presente notebook se realiza un análisis de un dataset con información relacionada a la plataforma de streaming Netflix, aquí se exploran aspectos relacionados al contexto comercial y analítico del negocio, se evaluan qué problemas comerciales pueden resolverse con el análisis exploratorio de los datos y se evalúan modelos que contribuyan a la resolución de problemas de interés. El análisis que se plantea podría ser beneficioso para productoras de contenido. Las mismas pueden tomar decisiones sobre futuras producciones con la información que aquí se proporciona."
      ],
      "metadata": {
        "id": "TFn1kshseWKt"
      }
    },
    {
      "cell_type": "markdown",
      "source": [
        "## **Objetivo**"
      ],
      "metadata": {
        "id": "SbPlm43ByP1P"
      }
    },
    {
      "cell_type": "markdown",
      "source": [
        "Se desea observar qué relaciones y patrones entre variables (como géneros, público objetivo, oferta disponible, tipo de contenido, país de origen, etc.) es posible encontrar en datos relacionados a la plataforma de streaming Netflix."
      ],
      "metadata": {
        "id": "SVBlSwNv6AqJ"
      }
    },
    {
      "cell_type": "markdown",
      "source": [
        "## **Contexto Comercial**"
      ],
      "metadata": {
        "id": "To2x-mzWygTS"
      }
    },
    {
      "cell_type": "markdown",
      "source": [
        "En los últimos años, las plataformas de streaming como Netflix, Amazon Prime Video, Disney +, HBO, etc. se han convertido en una de las fuentes de entretenimiento más populares a nivel mundial. Las cuales, cada vez más, atraen nuevos usuarios a los que les ofrecen una amplia variedad de contenidos audiovisuales producidos en muchos lugares alrededor del mundo.\n",
        "\n",
        "Para mantener esta popularidad, es importante para estos proveedores de streaming, comprender las preferencias y demandas de sus usuarios con el fin de ir mejorando y ampliando la calidad y cantidad de su oferta de entretenimiento."
      ],
      "metadata": {
        "id": "RS-lctxH_IYK"
      }
    },
    {
      "cell_type": "markdown",
      "source": [
        "## **Problema Comercial**"
      ],
      "metadata": {
        "id": "AZNwG-xFytN1"
      }
    },
    {
      "cell_type": "markdown",
      "source": [
        "¿Cómo se relacionan el público objetivo con los géneros a los que pertenecen las películas o series?"
      ],
      "metadata": {
        "id": "WBu5x5njteTQ"
      }
    },
    {
      "cell_type": "markdown",
      "source": [
        "## **Contexto analítico**"
      ],
      "metadata": {
        "id": "dZrJNrMgy0IT"
      }
    },
    {
      "cell_type": "markdown",
      "source": [
        "El conjunto de datos de interés se creó para enumerar todos los programas disponibles en la transmisión de Netflix, y analizarlos para encontrar información. Se adquirieron en mayo de 2022 y contienen datos sólo de Estados Unidos. Más de 5 mil títulos únicos en Netflix con 15 columnas que contienen su información, que incluye:\n",
        "\n",
        "1- ID: El ID del título en JustWatch. <br>\n",
        "2- Título: El nombre del título. <br>\n",
        "3- Tipo de producto: programa de televisión o película. <br>\n",
        "4- Descripción: Una breve descripción. <br>\n",
        "5- Año de lanzamiento. <br>\n",
        "6- Certificación de edad (público objetivo). <br>\n",
        "7- Runtime: La duración del episodio (SHOW) o película. <br>\n",
        "8- Géneros: Una lista de géneros. <br>\n",
        "9- Países de producción: una lista de países que produjeron el título. <br>\n",
        "10- Temporadas: Número de temporadas si es un SHOW. <br>\n",
        "11- ID de IMDB: el ID del título en IMDB. <br>\n",
        "12- Puntaje IMDB. <br>\n",
        "13- Votos de IMDB. <br>\n",
        "14- Popularidad de TMDB. <br>\n",
        "15- Puntaje TMDB. <br>\n",
        "\n",
        "Internet Movie Database (IMDb, en español: Base de datos de películas en Internet) es una base de datos en línea que en un principio almacenaba información relacionada con películas, y con el tiempo se transformó en la base de datos más grande del mundo donde se encuentran programas de televisión, eventos en vivo y difundidos en televisión o en la web, entrega de premios y especiales.\n",
        "\n",
        "La base de datos de películas (TMDB) es una base de datos de y TV creada por la comunidad. Cada dato ha sido agregado por la comunidad desde 2008.\n",
        "\n",
        "TMDB es una base de datos de películas y TV creada por la comunidad. Cada dato ha sido agregado por la comunidad desde 2008.\n",
        "\n",
        "El dataset se puede consultar en: https://www.kaggle.com/datasets/victorsoeiro/netflix-tv-shows-and-movies"
      ],
      "metadata": {
        "id": "8YkTbS_afpwH"
      }
    },
    {
      "cell_type": "code",
      "source": [
        "! pip install chart_studio\n",
        "! pip install bqplot\n",
        "! pip install pingouin"
      ],
      "metadata": {
        "colab": {
          "base_uri": "https://localhost:8080/"
        },
        "id": "8MapB9_jkD9x",
        "outputId": "e302cb3e-4ded-4d38-99e6-74450b474470"
      },
      "execution_count": 1,
      "outputs": [
        {
          "output_type": "stream",
          "name": "stdout",
          "text": [
            "Looking in indexes: https://pypi.org/simple, https://us-python.pkg.dev/colab-wheels/public/simple/\n",
            "Collecting chart_studio\n",
            "  Downloading chart_studio-1.1.0-py3-none-any.whl (64 kB)\n",
            "\u001b[K     |████████████████████████████████| 64 kB 1.8 MB/s \n",
            "\u001b[?25hRequirement already satisfied: requests in /usr/local/lib/python3.7/dist-packages (from chart_studio) (2.23.0)\n",
            "Collecting retrying>=1.3.3\n",
            "  Downloading retrying-1.3.3.tar.gz (10 kB)\n",
            "Requirement already satisfied: plotly in /usr/local/lib/python3.7/dist-packages (from chart_studio) (5.5.0)\n",
            "Requirement already satisfied: six in /usr/local/lib/python3.7/dist-packages (from chart_studio) (1.15.0)\n",
            "Requirement already satisfied: tenacity>=6.2.0 in /usr/local/lib/python3.7/dist-packages (from plotly->chart_studio) (8.1.0)\n",
            "Requirement already satisfied: chardet<4,>=3.0.2 in /usr/local/lib/python3.7/dist-packages (from requests->chart_studio) (3.0.4)\n",
            "Requirement already satisfied: idna<3,>=2.5 in /usr/local/lib/python3.7/dist-packages (from requests->chart_studio) (2.10)\n",
            "Requirement already satisfied: certifi>=2017.4.17 in /usr/local/lib/python3.7/dist-packages (from requests->chart_studio) (2022.9.24)\n",
            "Requirement already satisfied: urllib3!=1.25.0,!=1.25.1,<1.26,>=1.21.1 in /usr/local/lib/python3.7/dist-packages (from requests->chart_studio) (1.24.3)\n",
            "Building wheels for collected packages: retrying\n",
            "  Building wheel for retrying (setup.py) ... \u001b[?25l\u001b[?25hdone\n",
            "  Created wheel for retrying: filename=retrying-1.3.3-py3-none-any.whl size=11447 sha256=251d6c61876fd03a293f70bba4d8404fdec8393238960d9adc710635c59083a6\n",
            "  Stored in directory: /root/.cache/pip/wheels/f9/8d/8d/f6af3f7f9eea3553bc2fe6d53e4b287dad18b06a861ac56ddf\n",
            "Successfully built retrying\n",
            "Installing collected packages: retrying, chart-studio\n",
            "Successfully installed chart-studio-1.1.0 retrying-1.3.3\n",
            "Looking in indexes: https://pypi.org/simple, https://us-python.pkg.dev/colab-wheels/public/simple/\n",
            "Collecting bqplot\n",
            "  Downloading bqplot-0.12.36-py2.py3-none-any.whl (1.2 MB)\n",
            "\u001b[K     |████████████████████████████████| 1.2 MB 4.4 MB/s \n",
            "\u001b[?25hRequirement already satisfied: ipywidgets<9,>=7.5.0 in /usr/local/lib/python3.7/dist-packages (from bqplot) (7.7.1)\n",
            "Requirement already satisfied: pandas<2.0.0,>=1.0.0 in /usr/local/lib/python3.7/dist-packages (from bqplot) (1.3.5)\n",
            "Requirement already satisfied: traitlets>=4.3.0 in /usr/local/lib/python3.7/dist-packages (from bqplot) (5.1.1)\n",
            "Requirement already satisfied: numpy<2.0.0,>=1.10.4 in /usr/local/lib/python3.7/dist-packages (from bqplot) (1.21.6)\n",
            "Collecting traittypes>=0.0.6\n",
            "  Downloading traittypes-0.2.1-py2.py3-none-any.whl (8.6 kB)\n",
            "Requirement already satisfied: widgetsnbextension~=3.6.0 in /usr/local/lib/python3.7/dist-packages (from ipywidgets<9,>=7.5.0->bqplot) (3.6.1)\n",
            "Requirement already satisfied: ipykernel>=4.5.1 in /usr/local/lib/python3.7/dist-packages (from ipywidgets<9,>=7.5.0->bqplot) (5.3.4)\n",
            "Requirement already satisfied: ipython-genutils~=0.2.0 in /usr/local/lib/python3.7/dist-packages (from ipywidgets<9,>=7.5.0->bqplot) (0.2.0)\n",
            "Requirement already satisfied: ipython>=4.0.0 in /usr/local/lib/python3.7/dist-packages (from ipywidgets<9,>=7.5.0->bqplot) (7.9.0)\n",
            "Requirement already satisfied: jupyterlab-widgets>=1.0.0 in /usr/local/lib/python3.7/dist-packages (from ipywidgets<9,>=7.5.0->bqplot) (3.0.3)\n",
            "Requirement already satisfied: jupyter-client in /usr/local/lib/python3.7/dist-packages (from ipykernel>=4.5.1->ipywidgets<9,>=7.5.0->bqplot) (6.1.12)\n",
            "Requirement already satisfied: tornado>=4.2 in /usr/local/lib/python3.7/dist-packages (from ipykernel>=4.5.1->ipywidgets<9,>=7.5.0->bqplot) (5.1.1)\n",
            "Requirement already satisfied: pickleshare in /usr/local/lib/python3.7/dist-packages (from ipython>=4.0.0->ipywidgets<9,>=7.5.0->bqplot) (0.7.5)\n",
            "Requirement already satisfied: prompt-toolkit<2.1.0,>=2.0.0 in /usr/local/lib/python3.7/dist-packages (from ipython>=4.0.0->ipywidgets<9,>=7.5.0->bqplot) (2.0.10)\n",
            "Collecting jedi>=0.10\n",
            "  Downloading jedi-0.18.1-py2.py3-none-any.whl (1.6 MB)\n",
            "\u001b[K     |████████████████████████████████| 1.6 MB 36.0 MB/s \n",
            "\u001b[?25hRequirement already satisfied: setuptools>=18.5 in /usr/local/lib/python3.7/dist-packages (from ipython>=4.0.0->ipywidgets<9,>=7.5.0->bqplot) (57.4.0)\n",
            "Requirement already satisfied: decorator in /usr/local/lib/python3.7/dist-packages (from ipython>=4.0.0->ipywidgets<9,>=7.5.0->bqplot) (4.4.2)\n",
            "Requirement already satisfied: pexpect in /usr/local/lib/python3.7/dist-packages (from ipython>=4.0.0->ipywidgets<9,>=7.5.0->bqplot) (4.8.0)\n",
            "Requirement already satisfied: backcall in /usr/local/lib/python3.7/dist-packages (from ipython>=4.0.0->ipywidgets<9,>=7.5.0->bqplot) (0.2.0)\n",
            "Requirement already satisfied: pygments in /usr/local/lib/python3.7/dist-packages (from ipython>=4.0.0->ipywidgets<9,>=7.5.0->bqplot) (2.6.1)\n",
            "Requirement already satisfied: parso<0.9.0,>=0.8.0 in /usr/local/lib/python3.7/dist-packages (from jedi>=0.10->ipython>=4.0.0->ipywidgets<9,>=7.5.0->bqplot) (0.8.3)\n",
            "Requirement already satisfied: pytz>=2017.3 in /usr/local/lib/python3.7/dist-packages (from pandas<2.0.0,>=1.0.0->bqplot) (2022.4)\n",
            "Requirement already satisfied: python-dateutil>=2.7.3 in /usr/local/lib/python3.7/dist-packages (from pandas<2.0.0,>=1.0.0->bqplot) (2.8.2)\n",
            "Requirement already satisfied: wcwidth in /usr/local/lib/python3.7/dist-packages (from prompt-toolkit<2.1.0,>=2.0.0->ipython>=4.0.0->ipywidgets<9,>=7.5.0->bqplot) (0.2.5)\n",
            "Requirement already satisfied: six>=1.9.0 in /usr/local/lib/python3.7/dist-packages (from prompt-toolkit<2.1.0,>=2.0.0->ipython>=4.0.0->ipywidgets<9,>=7.5.0->bqplot) (1.15.0)\n",
            "Requirement already satisfied: notebook>=4.4.1 in /usr/local/lib/python3.7/dist-packages (from widgetsnbextension~=3.6.0->ipywidgets<9,>=7.5.0->bqplot) (5.5.0)\n",
            "Requirement already satisfied: jinja2 in /usr/local/lib/python3.7/dist-packages (from notebook>=4.4.1->widgetsnbextension~=3.6.0->ipywidgets<9,>=7.5.0->bqplot) (2.11.3)\n",
            "Requirement already satisfied: terminado>=0.8.1 in /usr/local/lib/python3.7/dist-packages (from notebook>=4.4.1->widgetsnbextension~=3.6.0->ipywidgets<9,>=7.5.0->bqplot) (0.13.3)\n",
            "Requirement already satisfied: jupyter-core>=4.4.0 in /usr/local/lib/python3.7/dist-packages (from notebook>=4.4.1->widgetsnbextension~=3.6.0->ipywidgets<9,>=7.5.0->bqplot) (4.11.1)\n",
            "Requirement already satisfied: nbformat in /usr/local/lib/python3.7/dist-packages (from notebook>=4.4.1->widgetsnbextension~=3.6.0->ipywidgets<9,>=7.5.0->bqplot) (5.7.0)\n",
            "Requirement already satisfied: Send2Trash in /usr/local/lib/python3.7/dist-packages (from notebook>=4.4.1->widgetsnbextension~=3.6.0->ipywidgets<9,>=7.5.0->bqplot) (1.8.0)\n",
            "Requirement already satisfied: nbconvert in /usr/local/lib/python3.7/dist-packages (from notebook>=4.4.1->widgetsnbextension~=3.6.0->ipywidgets<9,>=7.5.0->bqplot) (5.6.1)\n",
            "Requirement already satisfied: pyzmq>=17 in /usr/local/lib/python3.7/dist-packages (from notebook>=4.4.1->widgetsnbextension~=3.6.0->ipywidgets<9,>=7.5.0->bqplot) (23.2.1)\n",
            "Requirement already satisfied: ptyprocess in /usr/local/lib/python3.7/dist-packages (from terminado>=0.8.1->notebook>=4.4.1->widgetsnbextension~=3.6.0->ipywidgets<9,>=7.5.0->bqplot) (0.7.0)\n",
            "Requirement already satisfied: MarkupSafe>=0.23 in /usr/local/lib/python3.7/dist-packages (from jinja2->notebook>=4.4.1->widgetsnbextension~=3.6.0->ipywidgets<9,>=7.5.0->bqplot) (2.0.1)\n",
            "Requirement already satisfied: defusedxml in /usr/local/lib/python3.7/dist-packages (from nbconvert->notebook>=4.4.1->widgetsnbextension~=3.6.0->ipywidgets<9,>=7.5.0->bqplot) (0.7.1)\n",
            "Requirement already satisfied: mistune<2,>=0.8.1 in /usr/local/lib/python3.7/dist-packages (from nbconvert->notebook>=4.4.1->widgetsnbextension~=3.6.0->ipywidgets<9,>=7.5.0->bqplot) (0.8.4)\n",
            "Requirement already satisfied: bleach in /usr/local/lib/python3.7/dist-packages (from nbconvert->notebook>=4.4.1->widgetsnbextension~=3.6.0->ipywidgets<9,>=7.5.0->bqplot) (5.0.1)\n",
            "Requirement already satisfied: entrypoints>=0.2.2 in /usr/local/lib/python3.7/dist-packages (from nbconvert->notebook>=4.4.1->widgetsnbextension~=3.6.0->ipywidgets<9,>=7.5.0->bqplot) (0.4)\n",
            "Requirement already satisfied: testpath in /usr/local/lib/python3.7/dist-packages (from nbconvert->notebook>=4.4.1->widgetsnbextension~=3.6.0->ipywidgets<9,>=7.5.0->bqplot) (0.6.0)\n",
            "Requirement already satisfied: pandocfilters>=1.4.1 in /usr/local/lib/python3.7/dist-packages (from nbconvert->notebook>=4.4.1->widgetsnbextension~=3.6.0->ipywidgets<9,>=7.5.0->bqplot) (1.5.0)\n",
            "Requirement already satisfied: jsonschema>=2.6 in /usr/local/lib/python3.7/dist-packages (from nbformat->notebook>=4.4.1->widgetsnbextension~=3.6.0->ipywidgets<9,>=7.5.0->bqplot) (4.3.3)\n",
            "Requirement already satisfied: fastjsonschema in /usr/local/lib/python3.7/dist-packages (from nbformat->notebook>=4.4.1->widgetsnbextension~=3.6.0->ipywidgets<9,>=7.5.0->bqplot) (2.16.2)\n",
            "Requirement already satisfied: importlib-metadata>=3.6 in /usr/local/lib/python3.7/dist-packages (from nbformat->notebook>=4.4.1->widgetsnbextension~=3.6.0->ipywidgets<9,>=7.5.0->bqplot) (5.0.0)\n",
            "Requirement already satisfied: typing-extensions>=3.6.4 in /usr/local/lib/python3.7/dist-packages (from importlib-metadata>=3.6->nbformat->notebook>=4.4.1->widgetsnbextension~=3.6.0->ipywidgets<9,>=7.5.0->bqplot) (4.1.1)\n",
            "Requirement already satisfied: zipp>=0.5 in /usr/local/lib/python3.7/dist-packages (from importlib-metadata>=3.6->nbformat->notebook>=4.4.1->widgetsnbextension~=3.6.0->ipywidgets<9,>=7.5.0->bqplot) (3.9.0)\n",
            "Requirement already satisfied: importlib-resources>=1.4.0 in /usr/local/lib/python3.7/dist-packages (from jsonschema>=2.6->nbformat->notebook>=4.4.1->widgetsnbextension~=3.6.0->ipywidgets<9,>=7.5.0->bqplot) (5.10.0)\n",
            "Requirement already satisfied: pyrsistent!=0.17.0,!=0.17.1,!=0.17.2,>=0.14.0 in /usr/local/lib/python3.7/dist-packages (from jsonschema>=2.6->nbformat->notebook>=4.4.1->widgetsnbextension~=3.6.0->ipywidgets<9,>=7.5.0->bqplot) (0.18.1)\n",
            "Requirement already satisfied: attrs>=17.4.0 in /usr/local/lib/python3.7/dist-packages (from jsonschema>=2.6->nbformat->notebook>=4.4.1->widgetsnbextension~=3.6.0->ipywidgets<9,>=7.5.0->bqplot) (22.1.0)\n",
            "Requirement already satisfied: webencodings in /usr/local/lib/python3.7/dist-packages (from bleach->nbconvert->notebook>=4.4.1->widgetsnbextension~=3.6.0->ipywidgets<9,>=7.5.0->bqplot) (0.5.1)\n",
            "Installing collected packages: jedi, traittypes, bqplot\n",
            "Successfully installed bqplot-0.12.36 jedi-0.18.1 traittypes-0.2.1\n",
            "Looking in indexes: https://pypi.org/simple, https://us-python.pkg.dev/colab-wheels/public/simple/\n",
            "Collecting pingouin\n",
            "  Downloading pingouin-0.5.2.tar.gz (185 kB)\n",
            "\u001b[K     |████████████████████████████████| 185 kB 7.1 MB/s \n",
            "\u001b[?25hRequirement already satisfied: numpy>=1.19 in /usr/local/lib/python3.7/dist-packages (from pingouin) (1.21.6)\n",
            "Requirement already satisfied: scipy>=1.7 in /usr/local/lib/python3.7/dist-packages (from pingouin) (1.7.3)\n",
            "Requirement already satisfied: pandas>=1.0 in /usr/local/lib/python3.7/dist-packages (from pingouin) (1.3.5)\n",
            "Requirement already satisfied: matplotlib>=3.0.2 in /usr/local/lib/python3.7/dist-packages (from pingouin) (3.2.2)\n",
            "Requirement already satisfied: seaborn>=0.11 in /usr/local/lib/python3.7/dist-packages (from pingouin) (0.11.2)\n",
            "Collecting statsmodels>=0.13\n",
            "  Downloading statsmodels-0.13.2-cp37-cp37m-manylinux_2_17_x86_64.manylinux2014_x86_64.whl (9.8 MB)\n",
            "\u001b[K     |████████████████████████████████| 9.8 MB 56.0 MB/s \n",
            "\u001b[?25hRequirement already satisfied: scikit-learn<1.1.0 in /usr/local/lib/python3.7/dist-packages (from pingouin) (1.0.2)\n",
            "Collecting pandas_flavor>=0.2.0\n",
            "  Downloading pandas_flavor-0.3.0-py3-none-any.whl (6.3 kB)\n",
            "Collecting outdated\n",
            "  Downloading outdated-0.2.1-py3-none-any.whl (7.5 kB)\n",
            "Requirement already satisfied: tabulate in /usr/local/lib/python3.7/dist-packages (from pingouin) (0.8.10)\n",
            "Requirement already satisfied: pyparsing!=2.0.4,!=2.1.2,!=2.1.6,>=2.0.1 in /usr/local/lib/python3.7/dist-packages (from matplotlib>=3.0.2->pingouin) (3.0.9)\n",
            "Requirement already satisfied: python-dateutil>=2.1 in /usr/local/lib/python3.7/dist-packages (from matplotlib>=3.0.2->pingouin) (2.8.2)\n",
            "Requirement already satisfied: cycler>=0.10 in /usr/local/lib/python3.7/dist-packages (from matplotlib>=3.0.2->pingouin) (0.11.0)\n",
            "Requirement already satisfied: kiwisolver>=1.0.1 in /usr/local/lib/python3.7/dist-packages (from matplotlib>=3.0.2->pingouin) (1.4.4)\n",
            "Requirement already satisfied: typing-extensions in /usr/local/lib/python3.7/dist-packages (from kiwisolver>=1.0.1->matplotlib>=3.0.2->pingouin) (4.1.1)\n",
            "Requirement already satisfied: pytz>=2017.3 in /usr/local/lib/python3.7/dist-packages (from pandas>=1.0->pingouin) (2022.4)\n",
            "Requirement already satisfied: xarray in /usr/local/lib/python3.7/dist-packages (from pandas_flavor>=0.2.0->pingouin) (0.20.2)\n",
            "Collecting pandas_flavor>=0.2.0\n",
            "  Downloading pandas_flavor-0.2.0-py2.py3-none-any.whl (6.6 kB)\n",
            "Requirement already satisfied: six>=1.5 in /usr/local/lib/python3.7/dist-packages (from python-dateutil>=2.1->matplotlib>=3.0.2->pingouin) (1.15.0)\n",
            "Requirement already satisfied: threadpoolctl>=2.0.0 in /usr/local/lib/python3.7/dist-packages (from scikit-learn<1.1.0->pingouin) (3.1.0)\n",
            "Requirement already satisfied: joblib>=0.11 in /usr/local/lib/python3.7/dist-packages (from scikit-learn<1.1.0->pingouin) (1.2.0)\n",
            "Requirement already satisfied: patsy>=0.5.2 in /usr/local/lib/python3.7/dist-packages (from statsmodels>=0.13->pingouin) (0.5.3)\n",
            "Requirement already satisfied: packaging>=21.3 in /usr/local/lib/python3.7/dist-packages (from statsmodels>=0.13->pingouin) (21.3)\n",
            "Requirement already satisfied: requests in /usr/local/lib/python3.7/dist-packages (from outdated->pingouin) (2.23.0)\n",
            "Collecting littleutils\n",
            "  Downloading littleutils-0.2.2.tar.gz (6.6 kB)\n",
            "Requirement already satisfied: certifi>=2017.4.17 in /usr/local/lib/python3.7/dist-packages (from requests->outdated->pingouin) (2022.9.24)\n",
            "Requirement already satisfied: chardet<4,>=3.0.2 in /usr/local/lib/python3.7/dist-packages (from requests->outdated->pingouin) (3.0.4)\n",
            "Requirement already satisfied: idna<3,>=2.5 in /usr/local/lib/python3.7/dist-packages (from requests->outdated->pingouin) (2.10)\n",
            "Requirement already satisfied: urllib3!=1.25.0,!=1.25.1,<1.26,>=1.21.1 in /usr/local/lib/python3.7/dist-packages (from requests->outdated->pingouin) (1.24.3)\n",
            "Requirement already satisfied: importlib-metadata in /usr/local/lib/python3.7/dist-packages (from xarray->pandas_flavor>=0.2.0->pingouin) (5.0.0)\n",
            "Requirement already satisfied: zipp>=0.5 in /usr/local/lib/python3.7/dist-packages (from importlib-metadata->xarray->pandas_flavor>=0.2.0->pingouin) (3.9.0)\n",
            "Building wheels for collected packages: pingouin, littleutils\n",
            "  Building wheel for pingouin (setup.py) ... \u001b[?25l\u001b[?25hdone\n",
            "  Created wheel for pingouin: filename=pingouin-0.5.2-py3-none-any.whl size=196206 sha256=33c58c9b3155b5383b18dc9ead90217337f121e4b20a67b5a1d435b119dfac19\n",
            "  Stored in directory: /root/.cache/pip/wheels/11/5a/63/a6d32fc26fa462c731f65480bfb98ff7bd39b8ebcb4bc6c2fe\n",
            "  Building wheel for littleutils (setup.py) ... \u001b[?25l\u001b[?25hdone\n",
            "  Created wheel for littleutils: filename=littleutils-0.2.2-py3-none-any.whl size=7048 sha256=d40d749e0d2af9e6aa7319541dd23fbfba0defa373e706be1ed9cff5af437111\n",
            "  Stored in directory: /root/.cache/pip/wheels/d6/64/cd/32819b511a488e4993f2fab909a95330289c3f4e0f6ef4676d\n",
            "Successfully built pingouin littleutils\n",
            "Installing collected packages: littleutils, statsmodels, pandas-flavor, outdated, pingouin\n",
            "  Attempting uninstall: statsmodels\n",
            "    Found existing installation: statsmodels 0.12.2\n",
            "    Uninstalling statsmodels-0.12.2:\n",
            "      Successfully uninstalled statsmodels-0.12.2\n",
            "Successfully installed littleutils-0.2.2 outdated-0.2.1 pandas-flavor-0.2.0 pingouin-0.5.2 statsmodels-0.13.2\n"
          ]
        }
      ]
    },
    {
      "cell_type": "code",
      "source": [
        "import pandas as pd\n",
        "import matplotlib as mpl\n",
        "import matplotlib.pyplot as plt\n",
        "import plotly.subplots as sp\n",
        "import plotly.graph_objects as go\n",
        "import plotly.express as px\n",
        "import seaborn as sns\n",
        "import numpy as np\n",
        "import json\n",
        "import os\n",
        "from googleapiclient.discovery import build\n",
        "from datetime import datetime, timedelta\n",
        "from wordcloud import WordCloud\n",
        "import re\n"
      ],
      "metadata": {
        "id": "4GGADpx1Ec7y"
      },
      "execution_count": 2,
      "outputs": []
    },
    {
      "cell_type": "code",
      "source": [
        "### Load relevant packages\n",
        "from   scipy import stats\n",
        "import statsmodels.formula.api as sm\n",
        "import chart_studio.plotly     as py\n",
        "# https://community.plot.ly/t/solved-update-to-plotly-4-0-0-broke-application/26526/2\n",
        "\n",
        "#%matplotlib inline\n",
        "#plt.style.use('seanborn-v0_8-colorblind')\n",
        "from bokeh.resources import INLINE\n",
        "import bokeh.io\n",
        "from bokeh import *\n",
        "import pingouin\n",
        "bokeh.io.output_notebook(INLINE)"
      ],
      "metadata": {
        "id": "Bzf2kBKEj4Gj"
      },
      "execution_count": 3,
      "outputs": []
    },
    {
      "cell_type": "code",
      "source": [
        "from google.colab import drive\n",
        "drive.mount('/content/gdrive')"
      ],
      "metadata": {
        "colab": {
          "base_uri": "https://localhost:8080/"
        },
        "id": "MJFwbL0zc5wM",
        "outputId": "1ce79f6d-e767-4501-ae7c-ebd01acf0702"
      },
      "execution_count": 4,
      "outputs": [
        {
          "output_type": "stream",
          "name": "stdout",
          "text": [
            "Mounted at /content/gdrive\n"
          ]
        }
      ]
    },
    {
      "cell_type": "markdown",
      "source": [
        "###**Data acquisition**"
      ],
      "metadata": {
        "id": "XhI2NnVq6GvB"
      }
    },
    {
      "cell_type": "code",
      "source": [
        "%cd '/content/gdrive/MyDrive/Colab Notebooks/Datasets/netflix_tv_shows_and_movies'\n",
        "\n",
        "df = pd.read_csv('titles.csv')\n"
      ],
      "metadata": {
        "id": "YfCeFxOzq9m1",
        "colab": {
          "base_uri": "https://localhost:8080/"
        },
        "outputId": "db1fb2f1-a1af-4bf1-a971-f05e0df4cc8b"
      },
      "execution_count": 5,
      "outputs": [
        {
          "output_type": "stream",
          "name": "stdout",
          "text": [
            "/content/gdrive/MyDrive/Colab Notebooks/Datasets/netflix_tv_shows_and_movies\n"
          ]
        }
      ]
    },
    {
      "cell_type": "code",
      "source": [
        "df.columns\n",
        "#df.shape"
      ],
      "metadata": {
        "colab": {
          "base_uri": "https://localhost:8080/"
        },
        "id": "8plEVtS62Wfr",
        "outputId": "66be0486-4f98-493b-dcfb-d1bdd9fe2da7"
      },
      "execution_count": 45,
      "outputs": [
        {
          "output_type": "execute_result",
          "data": {
            "text/plain": [
              "Index(['title', 'type', 'description', 'release_year', 'age_certification',\n",
              "       'runtime', 'genres', 'production_countries', 'seasons', 'imdb_score',\n",
              "       'imdb_votes', 'tmdb_popularity', 'tmdb_score', 'documentation',\n",
              "       'action', 'european', 'history', 'fantasy', 'war', 'reality', 'crime',\n",
              "       'western', 'thriller', 'family', 'romance', 'sport', 'animation',\n",
              "       'drama', 'comedy', 'scifi', 'horror', 'music'],\n",
              "      dtype='object')"
            ]
          },
          "metadata": {},
          "execution_count": 45
        }
      ]
    },
    {
      "cell_type": "code",
      "source": [
        "df"
      ],
      "metadata": {
        "colab": {
          "base_uri": "https://localhost:8080/",
          "height": 1000
        },
        "id": "g3f9LXnDWzp0",
        "outputId": "48b6141e-4e0e-48a5-d6d6-601d10a190c3"
      },
      "execution_count": 46,
      "outputs": [
        {
          "output_type": "execute_result",
          "data": {
            "text/plain": [
              "                                    title   type  \\\n",
              "0     Five Came Back: The Reference Films   SHOW   \n",
              "1                             Taxi Driver  MOVIE   \n",
              "2         Monty Python and the Holy Grail  MOVIE   \n",
              "3                           Life of Brian  MOVIE   \n",
              "4                            The Exorcist  MOVIE   \n",
              "...                                   ...    ...   \n",
              "5801                            Fine Wine  MOVIE   \n",
              "5802                       Edis Starlight  MOVIE   \n",
              "5803                                Clash  MOVIE   \n",
              "5804                       Shadow Parties  MOVIE   \n",
              "5805   Mighty Little Bheem: Kite Festival   SHOW   \n",
              "\n",
              "                                            description  release_year  \\\n",
              "0     This collection includes 12 World War II-era p...          1945   \n",
              "1     A mentally unstable Vietnam War veteran works ...          1976   \n",
              "2     King Arthur, accompanied by his squire, recrui...          1975   \n",
              "3     Brian Cohen is an average young Jewish man, bu...          1979   \n",
              "4     12-year-old Regan MacNeil begins to adapt an e...          1973   \n",
              "...                                                 ...           ...   \n",
              "5801  A beautiful love story that can happen between...          2021   \n",
              "5802  Rising star Edis's career journey with ups and...          2021   \n",
              "5803  A man from Nigeria returns to his family in Ca...          2021   \n",
              "5804  A family faces destruction in a long-running c...          2021   \n",
              "5805  With winter behind them, Bheem and his townspe...          2021   \n",
              "\n",
              "     age_certification  runtime                       genres  \\\n",
              "0                TV-MA       48              [documentation]   \n",
              "1                    R      113               [crime, drama]   \n",
              "2                   PG       91            [comedy, fantasy]   \n",
              "3                    R       94                     [comedy]   \n",
              "4                    R      133                     [horror]   \n",
              "...                ...      ...                          ...   \n",
              "5801               NaN      100             [romance, drama]   \n",
              "5802               NaN       74       [music, documentation]   \n",
              "5803               NaN       88              [family, drama]   \n",
              "5804               NaN      116           [action, thriller]   \n",
              "5805               NaN        0  [family, comedy, animation]   \n",
              "\n",
              "     production_countries  seasons  imdb_score  ...  thriller  family  \\\n",
              "0                  ['US']        1         NaN  ...         0       0   \n",
              "1                  ['US']        0         8.3  ...         0       0   \n",
              "2                  ['GB']        0         8.2  ...         0       0   \n",
              "3                  ['GB']        0         8.0  ...         0       0   \n",
              "4                  ['US']        0         8.1  ...         0       0   \n",
              "...                   ...      ...         ...  ...       ...     ...   \n",
              "5801               ['NG']        0         6.9  ...         0       0   \n",
              "5802                   []        0         NaN  ...         0       0   \n",
              "5803         ['NG', 'CA']        0         6.5  ...         0       1   \n",
              "5804                   []        0         6.2  ...         1       0   \n",
              "5805                   []        1         8.8  ...         0       1   \n",
              "\n",
              "      romance  sport  animation  drama  comedy  scifi  horror  music  \n",
              "0           0      0          0      0       0      0       0      0  \n",
              "1           0      0          0      1       0      0       0      0  \n",
              "2           0      0          0      0       1      0       0      0  \n",
              "3           0      0          0      0       1      0       0      0  \n",
              "4           0      0          0      0       0      0       1      0  \n",
              "...       ...    ...        ...    ...     ...    ...     ...    ...  \n",
              "5801        1      0          0      1       0      0       0      0  \n",
              "5802        0      0          0      0       0      0       0      1  \n",
              "5803        0      0          0      1       0      0       0      0  \n",
              "5804        0      0          0      0       0      0       0      0  \n",
              "5805        0      0          1      0       1      0       0      0  \n",
              "\n",
              "[5805 rows x 32 columns]"
            ],
            "text/html": [
              "\n",
              "  <div id=\"df-db1e054e-bf10-4a45-adff-2d512edb904b\">\n",
              "    <div class=\"colab-df-container\">\n",
              "      <div>\n",
              "<style scoped>\n",
              "    .dataframe tbody tr th:only-of-type {\n",
              "        vertical-align: middle;\n",
              "    }\n",
              "\n",
              "    .dataframe tbody tr th {\n",
              "        vertical-align: top;\n",
              "    }\n",
              "\n",
              "    .dataframe thead th {\n",
              "        text-align: right;\n",
              "    }\n",
              "</style>\n",
              "<table border=\"1\" class=\"dataframe\">\n",
              "  <thead>\n",
              "    <tr style=\"text-align: right;\">\n",
              "      <th></th>\n",
              "      <th>title</th>\n",
              "      <th>type</th>\n",
              "      <th>description</th>\n",
              "      <th>release_year</th>\n",
              "      <th>age_certification</th>\n",
              "      <th>runtime</th>\n",
              "      <th>genres</th>\n",
              "      <th>production_countries</th>\n",
              "      <th>seasons</th>\n",
              "      <th>imdb_score</th>\n",
              "      <th>...</th>\n",
              "      <th>thriller</th>\n",
              "      <th>family</th>\n",
              "      <th>romance</th>\n",
              "      <th>sport</th>\n",
              "      <th>animation</th>\n",
              "      <th>drama</th>\n",
              "      <th>comedy</th>\n",
              "      <th>scifi</th>\n",
              "      <th>horror</th>\n",
              "      <th>music</th>\n",
              "    </tr>\n",
              "  </thead>\n",
              "  <tbody>\n",
              "    <tr>\n",
              "      <th>0</th>\n",
              "      <td>Five Came Back: The Reference Films</td>\n",
              "      <td>SHOW</td>\n",
              "      <td>This collection includes 12 World War II-era p...</td>\n",
              "      <td>1945</td>\n",
              "      <td>TV-MA</td>\n",
              "      <td>48</td>\n",
              "      <td>[documentation]</td>\n",
              "      <td>['US']</td>\n",
              "      <td>1</td>\n",
              "      <td>NaN</td>\n",
              "      <td>...</td>\n",
              "      <td>0</td>\n",
              "      <td>0</td>\n",
              "      <td>0</td>\n",
              "      <td>0</td>\n",
              "      <td>0</td>\n",
              "      <td>0</td>\n",
              "      <td>0</td>\n",
              "      <td>0</td>\n",
              "      <td>0</td>\n",
              "      <td>0</td>\n",
              "    </tr>\n",
              "    <tr>\n",
              "      <th>1</th>\n",
              "      <td>Taxi Driver</td>\n",
              "      <td>MOVIE</td>\n",
              "      <td>A mentally unstable Vietnam War veteran works ...</td>\n",
              "      <td>1976</td>\n",
              "      <td>R</td>\n",
              "      <td>113</td>\n",
              "      <td>[crime, drama]</td>\n",
              "      <td>['US']</td>\n",
              "      <td>0</td>\n",
              "      <td>8.3</td>\n",
              "      <td>...</td>\n",
              "      <td>0</td>\n",
              "      <td>0</td>\n",
              "      <td>0</td>\n",
              "      <td>0</td>\n",
              "      <td>0</td>\n",
              "      <td>1</td>\n",
              "      <td>0</td>\n",
              "      <td>0</td>\n",
              "      <td>0</td>\n",
              "      <td>0</td>\n",
              "    </tr>\n",
              "    <tr>\n",
              "      <th>2</th>\n",
              "      <td>Monty Python and the Holy Grail</td>\n",
              "      <td>MOVIE</td>\n",
              "      <td>King Arthur, accompanied by his squire, recrui...</td>\n",
              "      <td>1975</td>\n",
              "      <td>PG</td>\n",
              "      <td>91</td>\n",
              "      <td>[comedy, fantasy]</td>\n",
              "      <td>['GB']</td>\n",
              "      <td>0</td>\n",
              "      <td>8.2</td>\n",
              "      <td>...</td>\n",
              "      <td>0</td>\n",
              "      <td>0</td>\n",
              "      <td>0</td>\n",
              "      <td>0</td>\n",
              "      <td>0</td>\n",
              "      <td>0</td>\n",
              "      <td>1</td>\n",
              "      <td>0</td>\n",
              "      <td>0</td>\n",
              "      <td>0</td>\n",
              "    </tr>\n",
              "    <tr>\n",
              "      <th>3</th>\n",
              "      <td>Life of Brian</td>\n",
              "      <td>MOVIE</td>\n",
              "      <td>Brian Cohen is an average young Jewish man, bu...</td>\n",
              "      <td>1979</td>\n",
              "      <td>R</td>\n",
              "      <td>94</td>\n",
              "      <td>[comedy]</td>\n",
              "      <td>['GB']</td>\n",
              "      <td>0</td>\n",
              "      <td>8.0</td>\n",
              "      <td>...</td>\n",
              "      <td>0</td>\n",
              "      <td>0</td>\n",
              "      <td>0</td>\n",
              "      <td>0</td>\n",
              "      <td>0</td>\n",
              "      <td>0</td>\n",
              "      <td>1</td>\n",
              "      <td>0</td>\n",
              "      <td>0</td>\n",
              "      <td>0</td>\n",
              "    </tr>\n",
              "    <tr>\n",
              "      <th>4</th>\n",
              "      <td>The Exorcist</td>\n",
              "      <td>MOVIE</td>\n",
              "      <td>12-year-old Regan MacNeil begins to adapt an e...</td>\n",
              "      <td>1973</td>\n",
              "      <td>R</td>\n",
              "      <td>133</td>\n",
              "      <td>[horror]</td>\n",
              "      <td>['US']</td>\n",
              "      <td>0</td>\n",
              "      <td>8.1</td>\n",
              "      <td>...</td>\n",
              "      <td>0</td>\n",
              "      <td>0</td>\n",
              "      <td>0</td>\n",
              "      <td>0</td>\n",
              "      <td>0</td>\n",
              "      <td>0</td>\n",
              "      <td>0</td>\n",
              "      <td>0</td>\n",
              "      <td>1</td>\n",
              "      <td>0</td>\n",
              "    </tr>\n",
              "    <tr>\n",
              "      <th>...</th>\n",
              "      <td>...</td>\n",
              "      <td>...</td>\n",
              "      <td>...</td>\n",
              "      <td>...</td>\n",
              "      <td>...</td>\n",
              "      <td>...</td>\n",
              "      <td>...</td>\n",
              "      <td>...</td>\n",
              "      <td>...</td>\n",
              "      <td>...</td>\n",
              "      <td>...</td>\n",
              "      <td>...</td>\n",
              "      <td>...</td>\n",
              "      <td>...</td>\n",
              "      <td>...</td>\n",
              "      <td>...</td>\n",
              "      <td>...</td>\n",
              "      <td>...</td>\n",
              "      <td>...</td>\n",
              "      <td>...</td>\n",
              "      <td>...</td>\n",
              "    </tr>\n",
              "    <tr>\n",
              "      <th>5801</th>\n",
              "      <td>Fine Wine</td>\n",
              "      <td>MOVIE</td>\n",
              "      <td>A beautiful love story that can happen between...</td>\n",
              "      <td>2021</td>\n",
              "      <td>NaN</td>\n",
              "      <td>100</td>\n",
              "      <td>[romance, drama]</td>\n",
              "      <td>['NG']</td>\n",
              "      <td>0</td>\n",
              "      <td>6.9</td>\n",
              "      <td>...</td>\n",
              "      <td>0</td>\n",
              "      <td>0</td>\n",
              "      <td>1</td>\n",
              "      <td>0</td>\n",
              "      <td>0</td>\n",
              "      <td>1</td>\n",
              "      <td>0</td>\n",
              "      <td>0</td>\n",
              "      <td>0</td>\n",
              "      <td>0</td>\n",
              "    </tr>\n",
              "    <tr>\n",
              "      <th>5802</th>\n",
              "      <td>Edis Starlight</td>\n",
              "      <td>MOVIE</td>\n",
              "      <td>Rising star Edis's career journey with ups and...</td>\n",
              "      <td>2021</td>\n",
              "      <td>NaN</td>\n",
              "      <td>74</td>\n",
              "      <td>[music, documentation]</td>\n",
              "      <td>[]</td>\n",
              "      <td>0</td>\n",
              "      <td>NaN</td>\n",
              "      <td>...</td>\n",
              "      <td>0</td>\n",
              "      <td>0</td>\n",
              "      <td>0</td>\n",
              "      <td>0</td>\n",
              "      <td>0</td>\n",
              "      <td>0</td>\n",
              "      <td>0</td>\n",
              "      <td>0</td>\n",
              "      <td>0</td>\n",
              "      <td>1</td>\n",
              "    </tr>\n",
              "    <tr>\n",
              "      <th>5803</th>\n",
              "      <td>Clash</td>\n",
              "      <td>MOVIE</td>\n",
              "      <td>A man from Nigeria returns to his family in Ca...</td>\n",
              "      <td>2021</td>\n",
              "      <td>NaN</td>\n",
              "      <td>88</td>\n",
              "      <td>[family, drama]</td>\n",
              "      <td>['NG', 'CA']</td>\n",
              "      <td>0</td>\n",
              "      <td>6.5</td>\n",
              "      <td>...</td>\n",
              "      <td>0</td>\n",
              "      <td>1</td>\n",
              "      <td>0</td>\n",
              "      <td>0</td>\n",
              "      <td>0</td>\n",
              "      <td>1</td>\n",
              "      <td>0</td>\n",
              "      <td>0</td>\n",
              "      <td>0</td>\n",
              "      <td>0</td>\n",
              "    </tr>\n",
              "    <tr>\n",
              "      <th>5804</th>\n",
              "      <td>Shadow Parties</td>\n",
              "      <td>MOVIE</td>\n",
              "      <td>A family faces destruction in a long-running c...</td>\n",
              "      <td>2021</td>\n",
              "      <td>NaN</td>\n",
              "      <td>116</td>\n",
              "      <td>[action, thriller]</td>\n",
              "      <td>[]</td>\n",
              "      <td>0</td>\n",
              "      <td>6.2</td>\n",
              "      <td>...</td>\n",
              "      <td>1</td>\n",
              "      <td>0</td>\n",
              "      <td>0</td>\n",
              "      <td>0</td>\n",
              "      <td>0</td>\n",
              "      <td>0</td>\n",
              "      <td>0</td>\n",
              "      <td>0</td>\n",
              "      <td>0</td>\n",
              "      <td>0</td>\n",
              "    </tr>\n",
              "    <tr>\n",
              "      <th>5805</th>\n",
              "      <td>Mighty Little Bheem: Kite Festival</td>\n",
              "      <td>SHOW</td>\n",
              "      <td>With winter behind them, Bheem and his townspe...</td>\n",
              "      <td>2021</td>\n",
              "      <td>NaN</td>\n",
              "      <td>0</td>\n",
              "      <td>[family, comedy, animation]</td>\n",
              "      <td>[]</td>\n",
              "      <td>1</td>\n",
              "      <td>8.8</td>\n",
              "      <td>...</td>\n",
              "      <td>0</td>\n",
              "      <td>1</td>\n",
              "      <td>0</td>\n",
              "      <td>0</td>\n",
              "      <td>1</td>\n",
              "      <td>0</td>\n",
              "      <td>1</td>\n",
              "      <td>0</td>\n",
              "      <td>0</td>\n",
              "      <td>0</td>\n",
              "    </tr>\n",
              "  </tbody>\n",
              "</table>\n",
              "<p>5805 rows × 32 columns</p>\n",
              "</div>\n",
              "      <button class=\"colab-df-convert\" onclick=\"convertToInteractive('df-db1e054e-bf10-4a45-adff-2d512edb904b')\"\n",
              "              title=\"Convert this dataframe to an interactive table.\"\n",
              "              style=\"display:none;\">\n",
              "        \n",
              "  <svg xmlns=\"http://www.w3.org/2000/svg\" height=\"24px\"viewBox=\"0 0 24 24\"\n",
              "       width=\"24px\">\n",
              "    <path d=\"M0 0h24v24H0V0z\" fill=\"none\"/>\n",
              "    <path d=\"M18.56 5.44l.94 2.06.94-2.06 2.06-.94-2.06-.94-.94-2.06-.94 2.06-2.06.94zm-11 1L8.5 8.5l.94-2.06 2.06-.94-2.06-.94L8.5 2.5l-.94 2.06-2.06.94zm10 10l.94 2.06.94-2.06 2.06-.94-2.06-.94-.94-2.06-.94 2.06-2.06.94z\"/><path d=\"M17.41 7.96l-1.37-1.37c-.4-.4-.92-.59-1.43-.59-.52 0-1.04.2-1.43.59L10.3 9.45l-7.72 7.72c-.78.78-.78 2.05 0 2.83L4 21.41c.39.39.9.59 1.41.59.51 0 1.02-.2 1.41-.59l7.78-7.78 2.81-2.81c.8-.78.8-2.07 0-2.86zM5.41 20L4 18.59l7.72-7.72 1.47 1.35L5.41 20z\"/>\n",
              "  </svg>\n",
              "      </button>\n",
              "      \n",
              "  <style>\n",
              "    .colab-df-container {\n",
              "      display:flex;\n",
              "      flex-wrap:wrap;\n",
              "      gap: 12px;\n",
              "    }\n",
              "\n",
              "    .colab-df-convert {\n",
              "      background-color: #E8F0FE;\n",
              "      border: none;\n",
              "      border-radius: 50%;\n",
              "      cursor: pointer;\n",
              "      display: none;\n",
              "      fill: #1967D2;\n",
              "      height: 32px;\n",
              "      padding: 0 0 0 0;\n",
              "      width: 32px;\n",
              "    }\n",
              "\n",
              "    .colab-df-convert:hover {\n",
              "      background-color: #E2EBFA;\n",
              "      box-shadow: 0px 1px 2px rgba(60, 64, 67, 0.3), 0px 1px 3px 1px rgba(60, 64, 67, 0.15);\n",
              "      fill: #174EA6;\n",
              "    }\n",
              "\n",
              "    [theme=dark] .colab-df-convert {\n",
              "      background-color: #3B4455;\n",
              "      fill: #D2E3FC;\n",
              "    }\n",
              "\n",
              "    [theme=dark] .colab-df-convert:hover {\n",
              "      background-color: #434B5C;\n",
              "      box-shadow: 0px 1px 3px 1px rgba(0, 0, 0, 0.15);\n",
              "      filter: drop-shadow(0px 1px 2px rgba(0, 0, 0, 0.3));\n",
              "      fill: #FFFFFF;\n",
              "    }\n",
              "  </style>\n",
              "\n",
              "      <script>\n",
              "        const buttonEl =\n",
              "          document.querySelector('#df-db1e054e-bf10-4a45-adff-2d512edb904b button.colab-df-convert');\n",
              "        buttonEl.style.display =\n",
              "          google.colab.kernel.accessAllowed ? 'block' : 'none';\n",
              "\n",
              "        async function convertToInteractive(key) {\n",
              "          const element = document.querySelector('#df-db1e054e-bf10-4a45-adff-2d512edb904b');\n",
              "          const dataTable =\n",
              "            await google.colab.kernel.invokeFunction('convertToInteractive',\n",
              "                                                     [key], {});\n",
              "          if (!dataTable) return;\n",
              "\n",
              "          const docLinkHtml = 'Like what you see? Visit the ' +\n",
              "            '<a target=\"_blank\" href=https://colab.research.google.com/notebooks/data_table.ipynb>data table notebook</a>'\n",
              "            + ' to learn more about interactive tables.';\n",
              "          element.innerHTML = '';\n",
              "          dataTable['output_type'] = 'display_data';\n",
              "          await google.colab.output.renderOutput(dataTable, element);\n",
              "          const docLink = document.createElement('div');\n",
              "          docLink.innerHTML = docLinkHtml;\n",
              "          element.appendChild(docLink);\n",
              "        }\n",
              "      </script>\n",
              "    </div>\n",
              "  </div>\n",
              "  "
            ]
          },
          "metadata": {},
          "execution_count": 46
        }
      ]
    },
    {
      "cell_type": "code",
      "source": [
        "df.head(2)"
      ],
      "metadata": {
        "colab": {
          "base_uri": "https://localhost:8080/",
          "height": 315
        },
        "id": "5hj89iupE3Hm",
        "outputId": "4c651673-c187-4f5e-9958-c515f6f91b0d"
      },
      "execution_count": 7,
      "outputs": [
        {
          "output_type": "execute_result",
          "data": {
            "text/plain": [
              "         id                                title   type  \\\n",
              "0  ts300399  Five Came Back: The Reference Films   SHOW   \n",
              "1   tm84618                          Taxi Driver  MOVIE   \n",
              "\n",
              "                                         description  release_year  \\\n",
              "0  This collection includes 12 World War II-era p...          1945   \n",
              "1  A mentally unstable Vietnam War veteran works ...          1976   \n",
              "\n",
              "  age_certification  runtime              genres production_countries  \\\n",
              "0             TV-MA       48   ['documentation']               ['US']   \n",
              "1                 R      113  ['crime', 'drama']               ['US']   \n",
              "\n",
              "   seasons    imdb_id  imdb_score  imdb_votes  tmdb_popularity  tmdb_score  \n",
              "0      1.0        NaN         NaN         NaN            0.600         NaN  \n",
              "1      NaN  tt0075314         8.3    795222.0           27.612         8.2  "
            ],
            "text/html": [
              "\n",
              "  <div id=\"df-d5fac434-d5e3-442e-959b-9f03298edb1f\">\n",
              "    <div class=\"colab-df-container\">\n",
              "      <div>\n",
              "<style scoped>\n",
              "    .dataframe tbody tr th:only-of-type {\n",
              "        vertical-align: middle;\n",
              "    }\n",
              "\n",
              "    .dataframe tbody tr th {\n",
              "        vertical-align: top;\n",
              "    }\n",
              "\n",
              "    .dataframe thead th {\n",
              "        text-align: right;\n",
              "    }\n",
              "</style>\n",
              "<table border=\"1\" class=\"dataframe\">\n",
              "  <thead>\n",
              "    <tr style=\"text-align: right;\">\n",
              "      <th></th>\n",
              "      <th>id</th>\n",
              "      <th>title</th>\n",
              "      <th>type</th>\n",
              "      <th>description</th>\n",
              "      <th>release_year</th>\n",
              "      <th>age_certification</th>\n",
              "      <th>runtime</th>\n",
              "      <th>genres</th>\n",
              "      <th>production_countries</th>\n",
              "      <th>seasons</th>\n",
              "      <th>imdb_id</th>\n",
              "      <th>imdb_score</th>\n",
              "      <th>imdb_votes</th>\n",
              "      <th>tmdb_popularity</th>\n",
              "      <th>tmdb_score</th>\n",
              "    </tr>\n",
              "  </thead>\n",
              "  <tbody>\n",
              "    <tr>\n",
              "      <th>0</th>\n",
              "      <td>ts300399</td>\n",
              "      <td>Five Came Back: The Reference Films</td>\n",
              "      <td>SHOW</td>\n",
              "      <td>This collection includes 12 World War II-era p...</td>\n",
              "      <td>1945</td>\n",
              "      <td>TV-MA</td>\n",
              "      <td>48</td>\n",
              "      <td>['documentation']</td>\n",
              "      <td>['US']</td>\n",
              "      <td>1.0</td>\n",
              "      <td>NaN</td>\n",
              "      <td>NaN</td>\n",
              "      <td>NaN</td>\n",
              "      <td>0.600</td>\n",
              "      <td>NaN</td>\n",
              "    </tr>\n",
              "    <tr>\n",
              "      <th>1</th>\n",
              "      <td>tm84618</td>\n",
              "      <td>Taxi Driver</td>\n",
              "      <td>MOVIE</td>\n",
              "      <td>A mentally unstable Vietnam War veteran works ...</td>\n",
              "      <td>1976</td>\n",
              "      <td>R</td>\n",
              "      <td>113</td>\n",
              "      <td>['crime', 'drama']</td>\n",
              "      <td>['US']</td>\n",
              "      <td>NaN</td>\n",
              "      <td>tt0075314</td>\n",
              "      <td>8.3</td>\n",
              "      <td>795222.0</td>\n",
              "      <td>27.612</td>\n",
              "      <td>8.2</td>\n",
              "    </tr>\n",
              "  </tbody>\n",
              "</table>\n",
              "</div>\n",
              "      <button class=\"colab-df-convert\" onclick=\"convertToInteractive('df-d5fac434-d5e3-442e-959b-9f03298edb1f')\"\n",
              "              title=\"Convert this dataframe to an interactive table.\"\n",
              "              style=\"display:none;\">\n",
              "        \n",
              "  <svg xmlns=\"http://www.w3.org/2000/svg\" height=\"24px\"viewBox=\"0 0 24 24\"\n",
              "       width=\"24px\">\n",
              "    <path d=\"M0 0h24v24H0V0z\" fill=\"none\"/>\n",
              "    <path d=\"M18.56 5.44l.94 2.06.94-2.06 2.06-.94-2.06-.94-.94-2.06-.94 2.06-2.06.94zm-11 1L8.5 8.5l.94-2.06 2.06-.94-2.06-.94L8.5 2.5l-.94 2.06-2.06.94zm10 10l.94 2.06.94-2.06 2.06-.94-2.06-.94-.94-2.06-.94 2.06-2.06.94z\"/><path d=\"M17.41 7.96l-1.37-1.37c-.4-.4-.92-.59-1.43-.59-.52 0-1.04.2-1.43.59L10.3 9.45l-7.72 7.72c-.78.78-.78 2.05 0 2.83L4 21.41c.39.39.9.59 1.41.59.51 0 1.02-.2 1.41-.59l7.78-7.78 2.81-2.81c.8-.78.8-2.07 0-2.86zM5.41 20L4 18.59l7.72-7.72 1.47 1.35L5.41 20z\"/>\n",
              "  </svg>\n",
              "      </button>\n",
              "      \n",
              "  <style>\n",
              "    .colab-df-container {\n",
              "      display:flex;\n",
              "      flex-wrap:wrap;\n",
              "      gap: 12px;\n",
              "    }\n",
              "\n",
              "    .colab-df-convert {\n",
              "      background-color: #E8F0FE;\n",
              "      border: none;\n",
              "      border-radius: 50%;\n",
              "      cursor: pointer;\n",
              "      display: none;\n",
              "      fill: #1967D2;\n",
              "      height: 32px;\n",
              "      padding: 0 0 0 0;\n",
              "      width: 32px;\n",
              "    }\n",
              "\n",
              "    .colab-df-convert:hover {\n",
              "      background-color: #E2EBFA;\n",
              "      box-shadow: 0px 1px 2px rgba(60, 64, 67, 0.3), 0px 1px 3px 1px rgba(60, 64, 67, 0.15);\n",
              "      fill: #174EA6;\n",
              "    }\n",
              "\n",
              "    [theme=dark] .colab-df-convert {\n",
              "      background-color: #3B4455;\n",
              "      fill: #D2E3FC;\n",
              "    }\n",
              "\n",
              "    [theme=dark] .colab-df-convert:hover {\n",
              "      background-color: #434B5C;\n",
              "      box-shadow: 0px 1px 3px 1px rgba(0, 0, 0, 0.15);\n",
              "      filter: drop-shadow(0px 1px 2px rgba(0, 0, 0, 0.3));\n",
              "      fill: #FFFFFF;\n",
              "    }\n",
              "  </style>\n",
              "\n",
              "      <script>\n",
              "        const buttonEl =\n",
              "          document.querySelector('#df-d5fac434-d5e3-442e-959b-9f03298edb1f button.colab-df-convert');\n",
              "        buttonEl.style.display =\n",
              "          google.colab.kernel.accessAllowed ? 'block' : 'none';\n",
              "\n",
              "        async function convertToInteractive(key) {\n",
              "          const element = document.querySelector('#df-d5fac434-d5e3-442e-959b-9f03298edb1f');\n",
              "          const dataTable =\n",
              "            await google.colab.kernel.invokeFunction('convertToInteractive',\n",
              "                                                     [key], {});\n",
              "          if (!dataTable) return;\n",
              "\n",
              "          const docLinkHtml = 'Like what you see? Visit the ' +\n",
              "            '<a target=\"_blank\" href=https://colab.research.google.com/notebooks/data_table.ipynb>data table notebook</a>'\n",
              "            + ' to learn more about interactive tables.';\n",
              "          element.innerHTML = '';\n",
              "          dataTable['output_type'] = 'display_data';\n",
              "          await google.colab.output.renderOutput(dataTable, element);\n",
              "          const docLink = document.createElement('div');\n",
              "          docLink.innerHTML = docLinkHtml;\n",
              "          element.appendChild(docLink);\n",
              "        }\n",
              "      </script>\n",
              "    </div>\n",
              "  </div>\n",
              "  "
            ]
          },
          "metadata": {},
          "execution_count": 7
        }
      ]
    },
    {
      "cell_type": "markdown",
      "source": [
        "### **Data Wrangling**"
      ],
      "metadata": {
        "id": "Svsa1ieZzg8l"
      }
    },
    {
      "cell_type": "markdown",
      "source": [
        "<h6>Verificamos la cantidad de celdas sin datos por columna"
      ],
      "metadata": {
        "id": "Tnk6kjU5zs-D"
      }
    },
    {
      "cell_type": "code",
      "source": [
        "missing_data = df.isnull()\n",
        "missing_data.head(5)"
      ],
      "metadata": {
        "id": "MFtwbh0wbTMP",
        "colab": {
          "base_uri": "https://localhost:8080/",
          "height": 270
        },
        "outputId": "99e37f91-56f4-4509-91a9-d7b4f4fd863c"
      },
      "execution_count": 8,
      "outputs": [
        {
          "output_type": "execute_result",
          "data": {
            "text/plain": [
              "      id  title   type  description  release_year  age_certification  runtime  \\\n",
              "0  False  False  False        False         False              False    False   \n",
              "1  False  False  False        False         False              False    False   \n",
              "2  False  False  False        False         False              False    False   \n",
              "3  False  False  False        False         False              False    False   \n",
              "4  False  False  False        False         False              False    False   \n",
              "\n",
              "   genres  production_countries  seasons  imdb_id  imdb_score  imdb_votes  \\\n",
              "0   False                 False    False     True        True        True   \n",
              "1   False                 False     True    False       False       False   \n",
              "2   False                 False     True    False       False       False   \n",
              "3   False                 False     True    False       False       False   \n",
              "4   False                 False     True    False       False       False   \n",
              "\n",
              "   tmdb_popularity  tmdb_score  \n",
              "0            False        True  \n",
              "1            False       False  \n",
              "2            False       False  \n",
              "3            False       False  \n",
              "4            False       False  "
            ],
            "text/html": [
              "\n",
              "  <div id=\"df-661a3156-5627-4bed-b3da-19559aa60051\">\n",
              "    <div class=\"colab-df-container\">\n",
              "      <div>\n",
              "<style scoped>\n",
              "    .dataframe tbody tr th:only-of-type {\n",
              "        vertical-align: middle;\n",
              "    }\n",
              "\n",
              "    .dataframe tbody tr th {\n",
              "        vertical-align: top;\n",
              "    }\n",
              "\n",
              "    .dataframe thead th {\n",
              "        text-align: right;\n",
              "    }\n",
              "</style>\n",
              "<table border=\"1\" class=\"dataframe\">\n",
              "  <thead>\n",
              "    <tr style=\"text-align: right;\">\n",
              "      <th></th>\n",
              "      <th>id</th>\n",
              "      <th>title</th>\n",
              "      <th>type</th>\n",
              "      <th>description</th>\n",
              "      <th>release_year</th>\n",
              "      <th>age_certification</th>\n",
              "      <th>runtime</th>\n",
              "      <th>genres</th>\n",
              "      <th>production_countries</th>\n",
              "      <th>seasons</th>\n",
              "      <th>imdb_id</th>\n",
              "      <th>imdb_score</th>\n",
              "      <th>imdb_votes</th>\n",
              "      <th>tmdb_popularity</th>\n",
              "      <th>tmdb_score</th>\n",
              "    </tr>\n",
              "  </thead>\n",
              "  <tbody>\n",
              "    <tr>\n",
              "      <th>0</th>\n",
              "      <td>False</td>\n",
              "      <td>False</td>\n",
              "      <td>False</td>\n",
              "      <td>False</td>\n",
              "      <td>False</td>\n",
              "      <td>False</td>\n",
              "      <td>False</td>\n",
              "      <td>False</td>\n",
              "      <td>False</td>\n",
              "      <td>False</td>\n",
              "      <td>True</td>\n",
              "      <td>True</td>\n",
              "      <td>True</td>\n",
              "      <td>False</td>\n",
              "      <td>True</td>\n",
              "    </tr>\n",
              "    <tr>\n",
              "      <th>1</th>\n",
              "      <td>False</td>\n",
              "      <td>False</td>\n",
              "      <td>False</td>\n",
              "      <td>False</td>\n",
              "      <td>False</td>\n",
              "      <td>False</td>\n",
              "      <td>False</td>\n",
              "      <td>False</td>\n",
              "      <td>False</td>\n",
              "      <td>True</td>\n",
              "      <td>False</td>\n",
              "      <td>False</td>\n",
              "      <td>False</td>\n",
              "      <td>False</td>\n",
              "      <td>False</td>\n",
              "    </tr>\n",
              "    <tr>\n",
              "      <th>2</th>\n",
              "      <td>False</td>\n",
              "      <td>False</td>\n",
              "      <td>False</td>\n",
              "      <td>False</td>\n",
              "      <td>False</td>\n",
              "      <td>False</td>\n",
              "      <td>False</td>\n",
              "      <td>False</td>\n",
              "      <td>False</td>\n",
              "      <td>True</td>\n",
              "      <td>False</td>\n",
              "      <td>False</td>\n",
              "      <td>False</td>\n",
              "      <td>False</td>\n",
              "      <td>False</td>\n",
              "    </tr>\n",
              "    <tr>\n",
              "      <th>3</th>\n",
              "      <td>False</td>\n",
              "      <td>False</td>\n",
              "      <td>False</td>\n",
              "      <td>False</td>\n",
              "      <td>False</td>\n",
              "      <td>False</td>\n",
              "      <td>False</td>\n",
              "      <td>False</td>\n",
              "      <td>False</td>\n",
              "      <td>True</td>\n",
              "      <td>False</td>\n",
              "      <td>False</td>\n",
              "      <td>False</td>\n",
              "      <td>False</td>\n",
              "      <td>False</td>\n",
              "    </tr>\n",
              "    <tr>\n",
              "      <th>4</th>\n",
              "      <td>False</td>\n",
              "      <td>False</td>\n",
              "      <td>False</td>\n",
              "      <td>False</td>\n",
              "      <td>False</td>\n",
              "      <td>False</td>\n",
              "      <td>False</td>\n",
              "      <td>False</td>\n",
              "      <td>False</td>\n",
              "      <td>True</td>\n",
              "      <td>False</td>\n",
              "      <td>False</td>\n",
              "      <td>False</td>\n",
              "      <td>False</td>\n",
              "      <td>False</td>\n",
              "    </tr>\n",
              "  </tbody>\n",
              "</table>\n",
              "</div>\n",
              "      <button class=\"colab-df-convert\" onclick=\"convertToInteractive('df-661a3156-5627-4bed-b3da-19559aa60051')\"\n",
              "              title=\"Convert this dataframe to an interactive table.\"\n",
              "              style=\"display:none;\">\n",
              "        \n",
              "  <svg xmlns=\"http://www.w3.org/2000/svg\" height=\"24px\"viewBox=\"0 0 24 24\"\n",
              "       width=\"24px\">\n",
              "    <path d=\"M0 0h24v24H0V0z\" fill=\"none\"/>\n",
              "    <path d=\"M18.56 5.44l.94 2.06.94-2.06 2.06-.94-2.06-.94-.94-2.06-.94 2.06-2.06.94zm-11 1L8.5 8.5l.94-2.06 2.06-.94-2.06-.94L8.5 2.5l-.94 2.06-2.06.94zm10 10l.94 2.06.94-2.06 2.06-.94-2.06-.94-.94-2.06-.94 2.06-2.06.94z\"/><path d=\"M17.41 7.96l-1.37-1.37c-.4-.4-.92-.59-1.43-.59-.52 0-1.04.2-1.43.59L10.3 9.45l-7.72 7.72c-.78.78-.78 2.05 0 2.83L4 21.41c.39.39.9.59 1.41.59.51 0 1.02-.2 1.41-.59l7.78-7.78 2.81-2.81c.8-.78.8-2.07 0-2.86zM5.41 20L4 18.59l7.72-7.72 1.47 1.35L5.41 20z\"/>\n",
              "  </svg>\n",
              "      </button>\n",
              "      \n",
              "  <style>\n",
              "    .colab-df-container {\n",
              "      display:flex;\n",
              "      flex-wrap:wrap;\n",
              "      gap: 12px;\n",
              "    }\n",
              "\n",
              "    .colab-df-convert {\n",
              "      background-color: #E8F0FE;\n",
              "      border: none;\n",
              "      border-radius: 50%;\n",
              "      cursor: pointer;\n",
              "      display: none;\n",
              "      fill: #1967D2;\n",
              "      height: 32px;\n",
              "      padding: 0 0 0 0;\n",
              "      width: 32px;\n",
              "    }\n",
              "\n",
              "    .colab-df-convert:hover {\n",
              "      background-color: #E2EBFA;\n",
              "      box-shadow: 0px 1px 2px rgba(60, 64, 67, 0.3), 0px 1px 3px 1px rgba(60, 64, 67, 0.15);\n",
              "      fill: #174EA6;\n",
              "    }\n",
              "\n",
              "    [theme=dark] .colab-df-convert {\n",
              "      background-color: #3B4455;\n",
              "      fill: #D2E3FC;\n",
              "    }\n",
              "\n",
              "    [theme=dark] .colab-df-convert:hover {\n",
              "      background-color: #434B5C;\n",
              "      box-shadow: 0px 1px 3px 1px rgba(0, 0, 0, 0.15);\n",
              "      filter: drop-shadow(0px 1px 2px rgba(0, 0, 0, 0.3));\n",
              "      fill: #FFFFFF;\n",
              "    }\n",
              "  </style>\n",
              "\n",
              "      <script>\n",
              "        const buttonEl =\n",
              "          document.querySelector('#df-661a3156-5627-4bed-b3da-19559aa60051 button.colab-df-convert');\n",
              "        buttonEl.style.display =\n",
              "          google.colab.kernel.accessAllowed ? 'block' : 'none';\n",
              "\n",
              "        async function convertToInteractive(key) {\n",
              "          const element = document.querySelector('#df-661a3156-5627-4bed-b3da-19559aa60051');\n",
              "          const dataTable =\n",
              "            await google.colab.kernel.invokeFunction('convertToInteractive',\n",
              "                                                     [key], {});\n",
              "          if (!dataTable) return;\n",
              "\n",
              "          const docLinkHtml = 'Like what you see? Visit the ' +\n",
              "            '<a target=\"_blank\" href=https://colab.research.google.com/notebooks/data_table.ipynb>data table notebook</a>'\n",
              "            + ' to learn more about interactive tables.';\n",
              "          element.innerHTML = '';\n",
              "          dataTable['output_type'] = 'display_data';\n",
              "          await google.colab.output.renderOutput(dataTable, element);\n",
              "          const docLink = document.createElement('div');\n",
              "          docLink.innerHTML = docLinkHtml;\n",
              "          element.appendChild(docLink);\n",
              "        }\n",
              "      </script>\n",
              "    </div>\n",
              "  </div>\n",
              "  "
            ]
          },
          "metadata": {},
          "execution_count": 8
        }
      ]
    },
    {
      "cell_type": "code",
      "source": [
        "for column in missing_data.columns.values.tolist():\n",
        "    print(column)\n",
        "    print (missing_data[column].value_counts())\n",
        "    print(\"\")    "
      ],
      "metadata": {
        "id": "QGVRq8FMbWqP",
        "colab": {
          "base_uri": "https://localhost:8080/"
        },
        "outputId": "1de8c3c4-6966-4929-a80a-57d3fa467e83"
      },
      "execution_count": 9,
      "outputs": [
        {
          "output_type": "stream",
          "name": "stdout",
          "text": [
            "id\n",
            "False    5806\n",
            "Name: id, dtype: int64\n",
            "\n",
            "title\n",
            "False    5805\n",
            "True        1\n",
            "Name: title, dtype: int64\n",
            "\n",
            "type\n",
            "False    5806\n",
            "Name: type, dtype: int64\n",
            "\n",
            "description\n",
            "False    5788\n",
            "True       18\n",
            "Name: description, dtype: int64\n",
            "\n",
            "release_year\n",
            "False    5806\n",
            "Name: release_year, dtype: int64\n",
            "\n",
            "age_certification\n",
            "False    3196\n",
            "True     2610\n",
            "Name: age_certification, dtype: int64\n",
            "\n",
            "runtime\n",
            "False    5806\n",
            "Name: runtime, dtype: int64\n",
            "\n",
            "genres\n",
            "False    5806\n",
            "Name: genres, dtype: int64\n",
            "\n",
            "production_countries\n",
            "False    5806\n",
            "Name: production_countries, dtype: int64\n",
            "\n",
            "seasons\n",
            "True     3759\n",
            "False    2047\n",
            "Name: seasons, dtype: int64\n",
            "\n",
            "imdb_id\n",
            "False    5362\n",
            "True      444\n",
            "Name: imdb_id, dtype: int64\n",
            "\n",
            "imdb_score\n",
            "False    5283\n",
            "True      523\n",
            "Name: imdb_score, dtype: int64\n",
            "\n",
            "imdb_votes\n",
            "False    5267\n",
            "True      539\n",
            "Name: imdb_votes, dtype: int64\n",
            "\n",
            "tmdb_popularity\n",
            "False    5712\n",
            "True       94\n",
            "Name: tmdb_popularity, dtype: int64\n",
            "\n",
            "tmdb_score\n",
            "False    5488\n",
            "True      318\n",
            "Name: tmdb_score, dtype: int64\n",
            "\n"
          ]
        }
      ]
    },
    {
      "cell_type": "markdown",
      "source": [
        "<h6>Eliminamos duplicados"
      ],
      "metadata": {
        "id": "uh1J0OI76wI9"
      }
    },
    {
      "cell_type": "code",
      "source": [
        "df=df.drop_duplicates()"
      ],
      "metadata": {
        "id": "W5r2hwINba9g"
      },
      "execution_count": 10,
      "outputs": []
    },
    {
      "cell_type": "markdown",
      "source": [
        "Eliminamos columnas que no utilizaremos"
      ],
      "metadata": {
        "id": "5fF-MQxq62_p"
      }
    },
    {
      "cell_type": "code",
      "source": [
        "df=df.drop(['id', 'imdb_id',], axis=1) #Se eliminan las columnas 'id' e 'imdb_id' \n",
        "df.head(2)"
      ],
      "metadata": {
        "colab": {
          "base_uri": "https://localhost:8080/",
          "height": 315
        },
        "id": "zGjGow7UbgYi",
        "outputId": "f349fe3c-29b1-43ff-dcec-3d8c36dc1421"
      },
      "execution_count": 11,
      "outputs": [
        {
          "output_type": "execute_result",
          "data": {
            "text/plain": [
              "                                 title   type  \\\n",
              "0  Five Came Back: The Reference Films   SHOW   \n",
              "1                          Taxi Driver  MOVIE   \n",
              "\n",
              "                                         description  release_year  \\\n",
              "0  This collection includes 12 World War II-era p...          1945   \n",
              "1  A mentally unstable Vietnam War veteran works ...          1976   \n",
              "\n",
              "  age_certification  runtime              genres production_countries  \\\n",
              "0             TV-MA       48   ['documentation']               ['US']   \n",
              "1                 R      113  ['crime', 'drama']               ['US']   \n",
              "\n",
              "   seasons  imdb_score  imdb_votes  tmdb_popularity  tmdb_score  \n",
              "0      1.0         NaN         NaN            0.600         NaN  \n",
              "1      NaN         8.3    795222.0           27.612         8.2  "
            ],
            "text/html": [
              "\n",
              "  <div id=\"df-ad4d9c19-f4b9-4d65-9bfd-8579a4bc0aac\">\n",
              "    <div class=\"colab-df-container\">\n",
              "      <div>\n",
              "<style scoped>\n",
              "    .dataframe tbody tr th:only-of-type {\n",
              "        vertical-align: middle;\n",
              "    }\n",
              "\n",
              "    .dataframe tbody tr th {\n",
              "        vertical-align: top;\n",
              "    }\n",
              "\n",
              "    .dataframe thead th {\n",
              "        text-align: right;\n",
              "    }\n",
              "</style>\n",
              "<table border=\"1\" class=\"dataframe\">\n",
              "  <thead>\n",
              "    <tr style=\"text-align: right;\">\n",
              "      <th></th>\n",
              "      <th>title</th>\n",
              "      <th>type</th>\n",
              "      <th>description</th>\n",
              "      <th>release_year</th>\n",
              "      <th>age_certification</th>\n",
              "      <th>runtime</th>\n",
              "      <th>genres</th>\n",
              "      <th>production_countries</th>\n",
              "      <th>seasons</th>\n",
              "      <th>imdb_score</th>\n",
              "      <th>imdb_votes</th>\n",
              "      <th>tmdb_popularity</th>\n",
              "      <th>tmdb_score</th>\n",
              "    </tr>\n",
              "  </thead>\n",
              "  <tbody>\n",
              "    <tr>\n",
              "      <th>0</th>\n",
              "      <td>Five Came Back: The Reference Films</td>\n",
              "      <td>SHOW</td>\n",
              "      <td>This collection includes 12 World War II-era p...</td>\n",
              "      <td>1945</td>\n",
              "      <td>TV-MA</td>\n",
              "      <td>48</td>\n",
              "      <td>['documentation']</td>\n",
              "      <td>['US']</td>\n",
              "      <td>1.0</td>\n",
              "      <td>NaN</td>\n",
              "      <td>NaN</td>\n",
              "      <td>0.600</td>\n",
              "      <td>NaN</td>\n",
              "    </tr>\n",
              "    <tr>\n",
              "      <th>1</th>\n",
              "      <td>Taxi Driver</td>\n",
              "      <td>MOVIE</td>\n",
              "      <td>A mentally unstable Vietnam War veteran works ...</td>\n",
              "      <td>1976</td>\n",
              "      <td>R</td>\n",
              "      <td>113</td>\n",
              "      <td>['crime', 'drama']</td>\n",
              "      <td>['US']</td>\n",
              "      <td>NaN</td>\n",
              "      <td>8.3</td>\n",
              "      <td>795222.0</td>\n",
              "      <td>27.612</td>\n",
              "      <td>8.2</td>\n",
              "    </tr>\n",
              "  </tbody>\n",
              "</table>\n",
              "</div>\n",
              "      <button class=\"colab-df-convert\" onclick=\"convertToInteractive('df-ad4d9c19-f4b9-4d65-9bfd-8579a4bc0aac')\"\n",
              "              title=\"Convert this dataframe to an interactive table.\"\n",
              "              style=\"display:none;\">\n",
              "        \n",
              "  <svg xmlns=\"http://www.w3.org/2000/svg\" height=\"24px\"viewBox=\"0 0 24 24\"\n",
              "       width=\"24px\">\n",
              "    <path d=\"M0 0h24v24H0V0z\" fill=\"none\"/>\n",
              "    <path d=\"M18.56 5.44l.94 2.06.94-2.06 2.06-.94-2.06-.94-.94-2.06-.94 2.06-2.06.94zm-11 1L8.5 8.5l.94-2.06 2.06-.94-2.06-.94L8.5 2.5l-.94 2.06-2.06.94zm10 10l.94 2.06.94-2.06 2.06-.94-2.06-.94-.94-2.06-.94 2.06-2.06.94z\"/><path d=\"M17.41 7.96l-1.37-1.37c-.4-.4-.92-.59-1.43-.59-.52 0-1.04.2-1.43.59L10.3 9.45l-7.72 7.72c-.78.78-.78 2.05 0 2.83L4 21.41c.39.39.9.59 1.41.59.51 0 1.02-.2 1.41-.59l7.78-7.78 2.81-2.81c.8-.78.8-2.07 0-2.86zM5.41 20L4 18.59l7.72-7.72 1.47 1.35L5.41 20z\"/>\n",
              "  </svg>\n",
              "      </button>\n",
              "      \n",
              "  <style>\n",
              "    .colab-df-container {\n",
              "      display:flex;\n",
              "      flex-wrap:wrap;\n",
              "      gap: 12px;\n",
              "    }\n",
              "\n",
              "    .colab-df-convert {\n",
              "      background-color: #E8F0FE;\n",
              "      border: none;\n",
              "      border-radius: 50%;\n",
              "      cursor: pointer;\n",
              "      display: none;\n",
              "      fill: #1967D2;\n",
              "      height: 32px;\n",
              "      padding: 0 0 0 0;\n",
              "      width: 32px;\n",
              "    }\n",
              "\n",
              "    .colab-df-convert:hover {\n",
              "      background-color: #E2EBFA;\n",
              "      box-shadow: 0px 1px 2px rgba(60, 64, 67, 0.3), 0px 1px 3px 1px rgba(60, 64, 67, 0.15);\n",
              "      fill: #174EA6;\n",
              "    }\n",
              "\n",
              "    [theme=dark] .colab-df-convert {\n",
              "      background-color: #3B4455;\n",
              "      fill: #D2E3FC;\n",
              "    }\n",
              "\n",
              "    [theme=dark] .colab-df-convert:hover {\n",
              "      background-color: #434B5C;\n",
              "      box-shadow: 0px 1px 3px 1px rgba(0, 0, 0, 0.15);\n",
              "      filter: drop-shadow(0px 1px 2px rgba(0, 0, 0, 0.3));\n",
              "      fill: #FFFFFF;\n",
              "    }\n",
              "  </style>\n",
              "\n",
              "      <script>\n",
              "        const buttonEl =\n",
              "          document.querySelector('#df-ad4d9c19-f4b9-4d65-9bfd-8579a4bc0aac button.colab-df-convert');\n",
              "        buttonEl.style.display =\n",
              "          google.colab.kernel.accessAllowed ? 'block' : 'none';\n",
              "\n",
              "        async function convertToInteractive(key) {\n",
              "          const element = document.querySelector('#df-ad4d9c19-f4b9-4d65-9bfd-8579a4bc0aac');\n",
              "          const dataTable =\n",
              "            await google.colab.kernel.invokeFunction('convertToInteractive',\n",
              "                                                     [key], {});\n",
              "          if (!dataTable) return;\n",
              "\n",
              "          const docLinkHtml = 'Like what you see? Visit the ' +\n",
              "            '<a target=\"_blank\" href=https://colab.research.google.com/notebooks/data_table.ipynb>data table notebook</a>'\n",
              "            + ' to learn more about interactive tables.';\n",
              "          element.innerHTML = '';\n",
              "          dataTable['output_type'] = 'display_data';\n",
              "          await google.colab.output.renderOutput(dataTable, element);\n",
              "          const docLink = document.createElement('div');\n",
              "          docLink.innerHTML = docLinkHtml;\n",
              "          element.appendChild(docLink);\n",
              "        }\n",
              "      </script>\n",
              "    </div>\n",
              "  </div>\n",
              "  "
            ]
          },
          "metadata": {},
          "execution_count": 11
        }
      ]
    },
    {
      "cell_type": "code",
      "source": [
        "df = df.dropna(how='all')\n",
        "df = df[df['title'].notna()]\n",
        "df.head()\n",
        "#Se eliminan los valores nulos de la columna 'title'"
      ],
      "metadata": {
        "id": "bWmp7DwAeNkn",
        "colab": {
          "base_uri": "https://localhost:8080/",
          "height": 600
        },
        "outputId": "18663d5e-9937-4002-b4e2-5b77460aff88"
      },
      "execution_count": 12,
      "outputs": [
        {
          "output_type": "execute_result",
          "data": {
            "text/plain": [
              "                                 title   type  \\\n",
              "0  Five Came Back: The Reference Films   SHOW   \n",
              "1                          Taxi Driver  MOVIE   \n",
              "2      Monty Python and the Holy Grail  MOVIE   \n",
              "3                        Life of Brian  MOVIE   \n",
              "4                         The Exorcist  MOVIE   \n",
              "\n",
              "                                         description  release_year  \\\n",
              "0  This collection includes 12 World War II-era p...          1945   \n",
              "1  A mentally unstable Vietnam War veteran works ...          1976   \n",
              "2  King Arthur, accompanied by his squire, recrui...          1975   \n",
              "3  Brian Cohen is an average young Jewish man, bu...          1979   \n",
              "4  12-year-old Regan MacNeil begins to adapt an e...          1973   \n",
              "\n",
              "  age_certification  runtime                 genres production_countries  \\\n",
              "0             TV-MA       48      ['documentation']               ['US']   \n",
              "1                 R      113     ['crime', 'drama']               ['US']   \n",
              "2                PG       91  ['comedy', 'fantasy']               ['GB']   \n",
              "3                 R       94             ['comedy']               ['GB']   \n",
              "4                 R      133             ['horror']               ['US']   \n",
              "\n",
              "   seasons  imdb_score  imdb_votes  tmdb_popularity  tmdb_score  \n",
              "0      1.0         NaN         NaN            0.600         NaN  \n",
              "1      NaN         8.3    795222.0           27.612         8.2  \n",
              "2      NaN         8.2    530877.0           18.216         7.8  \n",
              "3      NaN         8.0    392419.0           17.505         7.8  \n",
              "4      NaN         8.1    391942.0           95.337         7.7  "
            ],
            "text/html": [
              "\n",
              "  <div id=\"df-7579a0f5-bf02-4d7f-a79c-551aa78ce442\">\n",
              "    <div class=\"colab-df-container\">\n",
              "      <div>\n",
              "<style scoped>\n",
              "    .dataframe tbody tr th:only-of-type {\n",
              "        vertical-align: middle;\n",
              "    }\n",
              "\n",
              "    .dataframe tbody tr th {\n",
              "        vertical-align: top;\n",
              "    }\n",
              "\n",
              "    .dataframe thead th {\n",
              "        text-align: right;\n",
              "    }\n",
              "</style>\n",
              "<table border=\"1\" class=\"dataframe\">\n",
              "  <thead>\n",
              "    <tr style=\"text-align: right;\">\n",
              "      <th></th>\n",
              "      <th>title</th>\n",
              "      <th>type</th>\n",
              "      <th>description</th>\n",
              "      <th>release_year</th>\n",
              "      <th>age_certification</th>\n",
              "      <th>runtime</th>\n",
              "      <th>genres</th>\n",
              "      <th>production_countries</th>\n",
              "      <th>seasons</th>\n",
              "      <th>imdb_score</th>\n",
              "      <th>imdb_votes</th>\n",
              "      <th>tmdb_popularity</th>\n",
              "      <th>tmdb_score</th>\n",
              "    </tr>\n",
              "  </thead>\n",
              "  <tbody>\n",
              "    <tr>\n",
              "      <th>0</th>\n",
              "      <td>Five Came Back: The Reference Films</td>\n",
              "      <td>SHOW</td>\n",
              "      <td>This collection includes 12 World War II-era p...</td>\n",
              "      <td>1945</td>\n",
              "      <td>TV-MA</td>\n",
              "      <td>48</td>\n",
              "      <td>['documentation']</td>\n",
              "      <td>['US']</td>\n",
              "      <td>1.0</td>\n",
              "      <td>NaN</td>\n",
              "      <td>NaN</td>\n",
              "      <td>0.600</td>\n",
              "      <td>NaN</td>\n",
              "    </tr>\n",
              "    <tr>\n",
              "      <th>1</th>\n",
              "      <td>Taxi Driver</td>\n",
              "      <td>MOVIE</td>\n",
              "      <td>A mentally unstable Vietnam War veteran works ...</td>\n",
              "      <td>1976</td>\n",
              "      <td>R</td>\n",
              "      <td>113</td>\n",
              "      <td>['crime', 'drama']</td>\n",
              "      <td>['US']</td>\n",
              "      <td>NaN</td>\n",
              "      <td>8.3</td>\n",
              "      <td>795222.0</td>\n",
              "      <td>27.612</td>\n",
              "      <td>8.2</td>\n",
              "    </tr>\n",
              "    <tr>\n",
              "      <th>2</th>\n",
              "      <td>Monty Python and the Holy Grail</td>\n",
              "      <td>MOVIE</td>\n",
              "      <td>King Arthur, accompanied by his squire, recrui...</td>\n",
              "      <td>1975</td>\n",
              "      <td>PG</td>\n",
              "      <td>91</td>\n",
              "      <td>['comedy', 'fantasy']</td>\n",
              "      <td>['GB']</td>\n",
              "      <td>NaN</td>\n",
              "      <td>8.2</td>\n",
              "      <td>530877.0</td>\n",
              "      <td>18.216</td>\n",
              "      <td>7.8</td>\n",
              "    </tr>\n",
              "    <tr>\n",
              "      <th>3</th>\n",
              "      <td>Life of Brian</td>\n",
              "      <td>MOVIE</td>\n",
              "      <td>Brian Cohen is an average young Jewish man, bu...</td>\n",
              "      <td>1979</td>\n",
              "      <td>R</td>\n",
              "      <td>94</td>\n",
              "      <td>['comedy']</td>\n",
              "      <td>['GB']</td>\n",
              "      <td>NaN</td>\n",
              "      <td>8.0</td>\n",
              "      <td>392419.0</td>\n",
              "      <td>17.505</td>\n",
              "      <td>7.8</td>\n",
              "    </tr>\n",
              "    <tr>\n",
              "      <th>4</th>\n",
              "      <td>The Exorcist</td>\n",
              "      <td>MOVIE</td>\n",
              "      <td>12-year-old Regan MacNeil begins to adapt an e...</td>\n",
              "      <td>1973</td>\n",
              "      <td>R</td>\n",
              "      <td>133</td>\n",
              "      <td>['horror']</td>\n",
              "      <td>['US']</td>\n",
              "      <td>NaN</td>\n",
              "      <td>8.1</td>\n",
              "      <td>391942.0</td>\n",
              "      <td>95.337</td>\n",
              "      <td>7.7</td>\n",
              "    </tr>\n",
              "  </tbody>\n",
              "</table>\n",
              "</div>\n",
              "      <button class=\"colab-df-convert\" onclick=\"convertToInteractive('df-7579a0f5-bf02-4d7f-a79c-551aa78ce442')\"\n",
              "              title=\"Convert this dataframe to an interactive table.\"\n",
              "              style=\"display:none;\">\n",
              "        \n",
              "  <svg xmlns=\"http://www.w3.org/2000/svg\" height=\"24px\"viewBox=\"0 0 24 24\"\n",
              "       width=\"24px\">\n",
              "    <path d=\"M0 0h24v24H0V0z\" fill=\"none\"/>\n",
              "    <path d=\"M18.56 5.44l.94 2.06.94-2.06 2.06-.94-2.06-.94-.94-2.06-.94 2.06-2.06.94zm-11 1L8.5 8.5l.94-2.06 2.06-.94-2.06-.94L8.5 2.5l-.94 2.06-2.06.94zm10 10l.94 2.06.94-2.06 2.06-.94-2.06-.94-.94-2.06-.94 2.06-2.06.94z\"/><path d=\"M17.41 7.96l-1.37-1.37c-.4-.4-.92-.59-1.43-.59-.52 0-1.04.2-1.43.59L10.3 9.45l-7.72 7.72c-.78.78-.78 2.05 0 2.83L4 21.41c.39.39.9.59 1.41.59.51 0 1.02-.2 1.41-.59l7.78-7.78 2.81-2.81c.8-.78.8-2.07 0-2.86zM5.41 20L4 18.59l7.72-7.72 1.47 1.35L5.41 20z\"/>\n",
              "  </svg>\n",
              "      </button>\n",
              "      \n",
              "  <style>\n",
              "    .colab-df-container {\n",
              "      display:flex;\n",
              "      flex-wrap:wrap;\n",
              "      gap: 12px;\n",
              "    }\n",
              "\n",
              "    .colab-df-convert {\n",
              "      background-color: #E8F0FE;\n",
              "      border: none;\n",
              "      border-radius: 50%;\n",
              "      cursor: pointer;\n",
              "      display: none;\n",
              "      fill: #1967D2;\n",
              "      height: 32px;\n",
              "      padding: 0 0 0 0;\n",
              "      width: 32px;\n",
              "    }\n",
              "\n",
              "    .colab-df-convert:hover {\n",
              "      background-color: #E2EBFA;\n",
              "      box-shadow: 0px 1px 2px rgba(60, 64, 67, 0.3), 0px 1px 3px 1px rgba(60, 64, 67, 0.15);\n",
              "      fill: #174EA6;\n",
              "    }\n",
              "\n",
              "    [theme=dark] .colab-df-convert {\n",
              "      background-color: #3B4455;\n",
              "      fill: #D2E3FC;\n",
              "    }\n",
              "\n",
              "    [theme=dark] .colab-df-convert:hover {\n",
              "      background-color: #434B5C;\n",
              "      box-shadow: 0px 1px 3px 1px rgba(0, 0, 0, 0.15);\n",
              "      filter: drop-shadow(0px 1px 2px rgba(0, 0, 0, 0.3));\n",
              "      fill: #FFFFFF;\n",
              "    }\n",
              "  </style>\n",
              "\n",
              "      <script>\n",
              "        const buttonEl =\n",
              "          document.querySelector('#df-7579a0f5-bf02-4d7f-a79c-551aa78ce442 button.colab-df-convert');\n",
              "        buttonEl.style.display =\n",
              "          google.colab.kernel.accessAllowed ? 'block' : 'none';\n",
              "\n",
              "        async function convertToInteractive(key) {\n",
              "          const element = document.querySelector('#df-7579a0f5-bf02-4d7f-a79c-551aa78ce442');\n",
              "          const dataTable =\n",
              "            await google.colab.kernel.invokeFunction('convertToInteractive',\n",
              "                                                     [key], {});\n",
              "          if (!dataTable) return;\n",
              "\n",
              "          const docLinkHtml = 'Like what you see? Visit the ' +\n",
              "            '<a target=\"_blank\" href=https://colab.research.google.com/notebooks/data_table.ipynb>data table notebook</a>'\n",
              "            + ' to learn more about interactive tables.';\n",
              "          element.innerHTML = '';\n",
              "          dataTable['output_type'] = 'display_data';\n",
              "          await google.colab.output.renderOutput(dataTable, element);\n",
              "          const docLink = document.createElement('div');\n",
              "          docLink.innerHTML = docLinkHtml;\n",
              "          element.appendChild(docLink);\n",
              "        }\n",
              "      </script>\n",
              "    </div>\n",
              "  </div>\n",
              "  "
            ]
          },
          "metadata": {},
          "execution_count": 12
        }
      ]
    },
    {
      "cell_type": "code",
      "source": [
        "df.info()"
      ],
      "metadata": {
        "colab": {
          "base_uri": "https://localhost:8080/"
        },
        "id": "_tLlYPFSI08Q",
        "outputId": "368e77e9-3327-4832-e1c6-36e571c1e261"
      },
      "execution_count": 13,
      "outputs": [
        {
          "output_type": "stream",
          "name": "stdout",
          "text": [
            "<class 'pandas.core.frame.DataFrame'>\n",
            "Int64Index: 5805 entries, 0 to 5805\n",
            "Data columns (total 13 columns):\n",
            " #   Column                Non-Null Count  Dtype  \n",
            "---  ------                --------------  -----  \n",
            " 0   title                 5805 non-null   object \n",
            " 1   type                  5805 non-null   object \n",
            " 2   description           5788 non-null   object \n",
            " 3   release_year          5805 non-null   int64  \n",
            " 4   age_certification     3196 non-null   object \n",
            " 5   runtime               5805 non-null   int64  \n",
            " 6   genres                5805 non-null   object \n",
            " 7   production_countries  5805 non-null   object \n",
            " 8   seasons               2047 non-null   float64\n",
            " 9   imdb_score            5283 non-null   float64\n",
            " 10  imdb_votes            5267 non-null   float64\n",
            " 11  tmdb_popularity       5712 non-null   float64\n",
            " 12  tmdb_score            5488 non-null   float64\n",
            "dtypes: float64(5), int64(2), object(6)\n",
            "memory usage: 634.9+ KB\n"
          ]
        }
      ]
    },
    {
      "cell_type": "markdown",
      "source": [
        "<h5>Se visualiza el tipo de dato y se cambia de ser necesario"
      ],
      "metadata": {
        "id": "7_GFKaFWjYLW"
      }
    },
    {
      "cell_type": "code",
      "source": [
        "df.dtypes"
      ],
      "metadata": {
        "colab": {
          "base_uri": "https://localhost:8080/"
        },
        "id": "P2kdh3xKjhSV",
        "outputId": "10405f8e-abae-40b9-9da6-a0649e46ee52"
      },
      "execution_count": 14,
      "outputs": [
        {
          "output_type": "execute_result",
          "data": {
            "text/plain": [
              "title                    object\n",
              "type                     object\n",
              "description              object\n",
              "release_year              int64\n",
              "age_certification        object\n",
              "runtime                   int64\n",
              "genres                   object\n",
              "production_countries     object\n",
              "seasons                 float64\n",
              "imdb_score              float64\n",
              "imdb_votes              float64\n",
              "tmdb_popularity         float64\n",
              "tmdb_score              float64\n",
              "dtype: object"
            ]
          },
          "metadata": {},
          "execution_count": 14
        }
      ]
    },
    {
      "cell_type": "code",
      "source": [
        "df.seasons =df.seasons.fillna(0)\n",
        "df.seasons = df.seasons.astype(int)"
      ],
      "metadata": {
        "id": "lRWRJyAbj05o"
      },
      "execution_count": 15,
      "outputs": []
    },
    {
      "cell_type": "code",
      "source": [
        "df.dtypes"
      ],
      "metadata": {
        "colab": {
          "base_uri": "https://localhost:8080/"
        },
        "id": "QcOv81RI6-ij",
        "outputId": "70ee1078-b53f-45a5-8538-b56815d455c3"
      },
      "execution_count": 16,
      "outputs": [
        {
          "output_type": "execute_result",
          "data": {
            "text/plain": [
              "title                    object\n",
              "type                     object\n",
              "description              object\n",
              "release_year              int64\n",
              "age_certification        object\n",
              "runtime                   int64\n",
              "genres                   object\n",
              "production_countries     object\n",
              "seasons                   int64\n",
              "imdb_score              float64\n",
              "imdb_votes              float64\n",
              "tmdb_popularity         float64\n",
              "tmdb_score              float64\n",
              "dtype: object"
            ]
          },
          "metadata": {},
          "execution_count": 16
        }
      ]
    },
    {
      "cell_type": "markdown",
      "source": [
        "Se seleccionan las columnas **'age_certification'** y **'genres'** que son de interés para el problema comercial"
      ],
      "metadata": {
        "id": "GymJnsUgSFiP"
      }
    },
    {
      "cell_type": "code",
      "source": [
        "country_count=df['production_countries'].value_counts().sort_values(ascending=False)\n",
        "#country_count=pd.DataFrame(country_count)\n",
        "#country_count = country_count.drop([])\n",
        "#topcountries=country_count[0:11]\n",
        "#topcountries\n",
        "country_count"
      ],
      "metadata": {
        "colab": {
          "base_uri": "https://localhost:8080/"
        },
        "id": "8IVJL-DUoCLQ",
        "outputId": "f82afc4b-b0f6-459e-ce6c-32823799f570"
      },
      "execution_count": 17,
      "outputs": [
        {
          "output_type": "execute_result",
          "data": {
            "text/plain": [
              "['US']                      1950\n",
              "['IN']                       605\n",
              "['JP']                       266\n",
              "[]                           231\n",
              "['GB']                       219\n",
              "                            ... \n",
              "['NL', 'PS', 'US', 'LB']       1\n",
              "['SG', 'MY']                   1\n",
              "['US', 'NL', 'CA', 'LB']       1\n",
              "['JP', 'US', 'FR']             1\n",
              "['NG', 'CA']                   1\n",
              "Name: production_countries, Length: 449, dtype: int64"
            ]
          },
          "metadata": {},
          "execution_count": 17
        }
      ]
    },
    {
      "cell_type": "code",
      "source": [
        "corr=df.corr()\n",
        "corr.style.background_gradient(cmap='Reds')"
      ],
      "metadata": {
        "id": "w_e4M_Vcq271",
        "colab": {
          "base_uri": "https://localhost:8080/",
          "height": 269
        },
        "outputId": "ca0e6206-32a1-4d86-db04-18dc22f0a363"
      },
      "execution_count": 18,
      "outputs": [
        {
          "output_type": "execute_result",
          "data": {
            "text/plain": [
              "<pandas.io.formats.style.Styler at 0x7fcf489d2350>"
            ],
            "text/html": [
              "<style type=\"text/css\">\n",
              "#T_dd720_row0_col0, #T_dd720_row1_col1, #T_dd720_row2_col2, #T_dd720_row3_col3, #T_dd720_row4_col4, #T_dd720_row5_col5, #T_dd720_row6_col6 {\n",
              "  background-color: #67000d;\n",
              "  color: #f1f1f1;\n",
              "}\n",
              "#T_dd720_row0_col1 {\n",
              "  background-color: #fed8c7;\n",
              "  color: #000000;\n",
              "}\n",
              "#T_dd720_row0_col2, #T_dd720_row6_col0 {\n",
              "  background-color: #fdc5ae;\n",
              "  color: #000000;\n",
              "}\n",
              "#T_dd720_row0_col3, #T_dd720_row3_col5 {\n",
              "  background-color: #ffede5;\n",
              "  color: #000000;\n",
              "}\n",
              "#T_dd720_row0_col4, #T_dd720_row1_col0, #T_dd720_row1_col2, #T_dd720_row1_col3, #T_dd720_row1_col5, #T_dd720_row1_col6, #T_dd720_row2_col1 {\n",
              "  background-color: #fff5f0;\n",
              "  color: #000000;\n",
              "}\n",
              "#T_dd720_row0_col5 {\n",
              "  background-color: #ffece4;\n",
              "  color: #000000;\n",
              "}\n",
              "#T_dd720_row0_col6, #T_dd720_row2_col5 {\n",
              "  background-color: #fcb89e;\n",
              "  color: #000000;\n",
              "}\n",
              "#T_dd720_row1_col4 {\n",
              "  background-color: #fcb296;\n",
              "  color: #000000;\n",
              "}\n",
              "#T_dd720_row2_col0 {\n",
              "  background-color: #fee8de;\n",
              "  color: #000000;\n",
              "}\n",
              "#T_dd720_row2_col3, #T_dd720_row3_col4 {\n",
              "  background-color: #fca486;\n",
              "  color: #000000;\n",
              "}\n",
              "#T_dd720_row2_col4 {\n",
              "  background-color: #fdc6b0;\n",
              "  color: #000000;\n",
              "}\n",
              "#T_dd720_row2_col6 {\n",
              "  background-color: #fc8565;\n",
              "  color: #f1f1f1;\n",
              "}\n",
              "#T_dd720_row3_col0 {\n",
              "  background-color: #fee7db;\n",
              "  color: #000000;\n",
              "}\n",
              "#T_dd720_row3_col1 {\n",
              "  background-color: #fdcdb9;\n",
              "  color: #000000;\n",
              "}\n",
              "#T_dd720_row3_col2 {\n",
              "  background-color: #fb7a5a;\n",
              "  color: #f1f1f1;\n",
              "}\n",
              "#T_dd720_row3_col6 {\n",
              "  background-color: #e02c26;\n",
              "  color: #f1f1f1;\n",
              "}\n",
              "#T_dd720_row4_col0 {\n",
              "  background-color: #fff4ee;\n",
              "  color: #000000;\n",
              "}\n",
              "#T_dd720_row4_col1 {\n",
              "  background-color: #fc8b6b;\n",
              "  color: #f1f1f1;\n",
              "}\n",
              "#T_dd720_row4_col2 {\n",
              "  background-color: #fc9d7f;\n",
              "  color: #000000;\n",
              "}\n",
              "#T_dd720_row4_col3 {\n",
              "  background-color: #fcaa8d;\n",
              "  color: #000000;\n",
              "}\n",
              "#T_dd720_row4_col5 {\n",
              "  background-color: #fcc3ab;\n",
              "  color: #000000;\n",
              "}\n",
              "#T_dd720_row4_col6 {\n",
              "  background-color: #fca98c;\n",
              "  color: #000000;\n",
              "}\n",
              "#T_dd720_row5_col0 {\n",
              "  background-color: #fdcbb6;\n",
              "  color: #000000;\n",
              "}\n",
              "#T_dd720_row5_col1 {\n",
              "  background-color: #fcb095;\n",
              "  color: #000000;\n",
              "}\n",
              "#T_dd720_row5_col2 {\n",
              "  background-color: #fb7555;\n",
              "  color: #f1f1f1;\n",
              "}\n",
              "#T_dd720_row5_col3 {\n",
              "  background-color: #fdd7c6;\n",
              "  color: #000000;\n",
              "}\n",
              "#T_dd720_row5_col4 {\n",
              "  background-color: #fca082;\n",
              "  color: #000000;\n",
              "}\n",
              "#T_dd720_row5_col6 {\n",
              "  background-color: #fcb398;\n",
              "  color: #000000;\n",
              "}\n",
              "#T_dd720_row6_col1 {\n",
              "  background-color: #fee4d8;\n",
              "  color: #000000;\n",
              "}\n",
              "#T_dd720_row6_col2 {\n",
              "  background-color: #fb7252;\n",
              "  color: #f1f1f1;\n",
              "}\n",
              "#T_dd720_row6_col3 {\n",
              "  background-color: #ea362a;\n",
              "  color: #f1f1f1;\n",
              "}\n",
              "#T_dd720_row6_col4 {\n",
              "  background-color: #fcb99f;\n",
              "  color: #000000;\n",
              "}\n",
              "#T_dd720_row6_col5 {\n",
              "  background-color: #fee6da;\n",
              "  color: #000000;\n",
              "}\n",
              "</style>\n",
              "<table id=\"T_dd720_\" class=\"dataframe\">\n",
              "  <thead>\n",
              "    <tr>\n",
              "      <th class=\"blank level0\" >&nbsp;</th>\n",
              "      <th class=\"col_heading level0 col0\" >release_year</th>\n",
              "      <th class=\"col_heading level0 col1\" >runtime</th>\n",
              "      <th class=\"col_heading level0 col2\" >seasons</th>\n",
              "      <th class=\"col_heading level0 col3\" >imdb_score</th>\n",
              "      <th class=\"col_heading level0 col4\" >imdb_votes</th>\n",
              "      <th class=\"col_heading level0 col5\" >tmdb_popularity</th>\n",
              "      <th class=\"col_heading level0 col6\" >tmdb_score</th>\n",
              "    </tr>\n",
              "  </thead>\n",
              "  <tbody>\n",
              "    <tr>\n",
              "      <th id=\"T_dd720_level0_row0\" class=\"row_heading level0 row0\" >release_year</th>\n",
              "      <td id=\"T_dd720_row0_col0\" class=\"data row0 col0\" >1.000000</td>\n",
              "      <td id=\"T_dd720_row0_col1\" class=\"data row0 col1\" >-0.211169</td>\n",
              "      <td id=\"T_dd720_row0_col2\" class=\"data row0 col2\" >-0.118874</td>\n",
              "      <td id=\"T_dd720_row0_col3\" class=\"data row0 col3\" >-0.102849</td>\n",
              "      <td id=\"T_dd720_row0_col4\" class=\"data row0 col4\" >-0.196988</td>\n",
              "      <td id=\"T_dd720_row0_col5\" class=\"data row0 col5\" >0.025628</td>\n",
              "      <td id=\"T_dd720_row0_col6\" class=\"data row0 col6\" >0.049107</td>\n",
              "    </tr>\n",
              "    <tr>\n",
              "      <th id=\"T_dd720_level0_row1\" class=\"row_heading level0 row1\" >runtime</th>\n",
              "      <td id=\"T_dd720_row1_col0\" class=\"data row1 col0\" >-0.211169</td>\n",
              "      <td id=\"T_dd720_row1_col1\" class=\"data row1 col1\" >1.000000</td>\n",
              "      <td id=\"T_dd720_row1_col2\" class=\"data row1 col2\" >-0.431495</td>\n",
              "      <td id=\"T_dd720_row1_col3\" class=\"data row1 col3\" >-0.159297</td>\n",
              "      <td id=\"T_dd720_row1_col4\" class=\"data row1 col4\" >0.138610</td>\n",
              "      <td id=\"T_dd720_row1_col5\" class=\"data row1 col5\" >-0.027493</td>\n",
              "      <td id=\"T_dd720_row1_col6\" class=\"data row1 col6\" >-0.285232</td>\n",
              "    </tr>\n",
              "    <tr>\n",
              "      <th id=\"T_dd720_level0_row2\" class=\"row_heading level0 row2\" >seasons</th>\n",
              "      <td id=\"T_dd720_row2_col0\" class=\"data row2 col0\" >-0.118874</td>\n",
              "      <td id=\"T_dd720_row2_col1\" class=\"data row2 col1\" >-0.431495</td>\n",
              "      <td id=\"T_dd720_row2_col2\" class=\"data row2 col2\" >1.000000</td>\n",
              "      <td id=\"T_dd720_row2_col3\" class=\"data row2 col3\" >0.216055</td>\n",
              "      <td id=\"T_dd720_row2_col4\" class=\"data row2 col4\" >0.058372</td>\n",
              "      <td id=\"T_dd720_row2_col5\" class=\"data row2 col5\" >0.239060</td>\n",
              "      <td id=\"T_dd720_row2_col6\" class=\"data row2 col6\" >0.249248</td>\n",
              "    </tr>\n",
              "    <tr>\n",
              "      <th id=\"T_dd720_level0_row3\" class=\"row_heading level0 row3\" >imdb_score</th>\n",
              "      <td id=\"T_dd720_row3_col0\" class=\"data row3 col0\" >-0.102849</td>\n",
              "      <td id=\"T_dd720_row3_col1\" class=\"data row3 col1\" >-0.159297</td>\n",
              "      <td id=\"T_dd720_row3_col2\" class=\"data row3 col2\" >0.216055</td>\n",
              "      <td id=\"T_dd720_row3_col3\" class=\"data row3 col3\" >1.000000</td>\n",
              "      <td id=\"T_dd720_row3_col4\" class=\"data row3 col4\" >0.189954</td>\n",
              "      <td id=\"T_dd720_row3_col5\" class=\"data row3 col5\" >0.023159</td>\n",
              "      <td id=\"T_dd720_row3_col6\" class=\"data row3 col6\" >0.587675</td>\n",
              "    </tr>\n",
              "    <tr>\n",
              "      <th id=\"T_dd720_level0_row4\" class=\"row_heading level0 row4\" >imdb_votes</th>\n",
              "      <td id=\"T_dd720_row4_col0\" class=\"data row4 col0\" >-0.196988</td>\n",
              "      <td id=\"T_dd720_row4_col1\" class=\"data row4 col1\" >0.138610</td>\n",
              "      <td id=\"T_dd720_row4_col2\" class=\"data row4 col2\" >0.058372</td>\n",
              "      <td id=\"T_dd720_row4_col3\" class=\"data row4 col3\" >0.189954</td>\n",
              "      <td id=\"T_dd720_row4_col4\" class=\"data row4 col4\" >1.000000</td>\n",
              "      <td id=\"T_dd720_row4_col5\" class=\"data row4 col5\" >0.201813</td>\n",
              "      <td id=\"T_dd720_row4_col6\" class=\"data row4 col6\" >0.109720</td>\n",
              "    </tr>\n",
              "    <tr>\n",
              "      <th id=\"T_dd720_level0_row5\" class=\"row_heading level0 row5\" >tmdb_popularity</th>\n",
              "      <td id=\"T_dd720_row5_col0\" class=\"data row5 col0\" >0.025628</td>\n",
              "      <td id=\"T_dd720_row5_col1\" class=\"data row5 col1\" >-0.027493</td>\n",
              "      <td id=\"T_dd720_row5_col2\" class=\"data row5 col2\" >0.239060</td>\n",
              "      <td id=\"T_dd720_row5_col3\" class=\"data row5 col3\" >0.023159</td>\n",
              "      <td id=\"T_dd720_row5_col4\" class=\"data row5 col4\" >0.201813</td>\n",
              "      <td id=\"T_dd720_row5_col5\" class=\"data row5 col5\" >1.000000</td>\n",
              "      <td id=\"T_dd720_row5_col6\" class=\"data row5 col6\" >0.068405</td>\n",
              "    </tr>\n",
              "    <tr>\n",
              "      <th id=\"T_dd720_level0_row6\" class=\"row_heading level0 row6\" >tmdb_score</th>\n",
              "      <td id=\"T_dd720_row6_col0\" class=\"data row6 col0\" >0.049107</td>\n",
              "      <td id=\"T_dd720_row6_col1\" class=\"data row6 col1\" >-0.285232</td>\n",
              "      <td id=\"T_dd720_row6_col2\" class=\"data row6 col2\" >0.249248</td>\n",
              "      <td id=\"T_dd720_row6_col3\" class=\"data row6 col3\" >0.587675</td>\n",
              "      <td id=\"T_dd720_row6_col4\" class=\"data row6 col4\" >0.109720</td>\n",
              "      <td id=\"T_dd720_row6_col5\" class=\"data row6 col5\" >0.068405</td>\n",
              "      <td id=\"T_dd720_row6_col6\" class=\"data row6 col6\" >1.000000</td>\n",
              "    </tr>\n",
              "  </tbody>\n",
              "</table>\n"
            ]
          },
          "metadata": {},
          "execution_count": 18
        }
      ]
    },
    {
      "cell_type": "code",
      "source": [
        "df.filter(items = ['title', 'type', 'age_certification', 'genres'])"
      ],
      "metadata": {
        "colab": {
          "base_uri": "https://localhost:8080/",
          "height": 424
        },
        "id": "e18IEwFsvjcQ",
        "outputId": "fb2a069a-f29e-42c3-891c-ffdb1a6f7b57"
      },
      "execution_count": 19,
      "outputs": [
        {
          "output_type": "execute_result",
          "data": {
            "text/plain": [
              "                                    title   type age_certification  \\\n",
              "0     Five Came Back: The Reference Films   SHOW             TV-MA   \n",
              "1                             Taxi Driver  MOVIE                 R   \n",
              "2         Monty Python and the Holy Grail  MOVIE                PG   \n",
              "3                           Life of Brian  MOVIE                 R   \n",
              "4                            The Exorcist  MOVIE                 R   \n",
              "...                                   ...    ...               ...   \n",
              "5801                            Fine Wine  MOVIE               NaN   \n",
              "5802                       Edis Starlight  MOVIE               NaN   \n",
              "5803                                Clash  MOVIE               NaN   \n",
              "5804                       Shadow Parties  MOVIE               NaN   \n",
              "5805   Mighty Little Bheem: Kite Festival   SHOW               NaN   \n",
              "\n",
              "                                 genres  \n",
              "0                     ['documentation']  \n",
              "1                    ['crime', 'drama']  \n",
              "2                 ['comedy', 'fantasy']  \n",
              "3                            ['comedy']  \n",
              "4                            ['horror']  \n",
              "...                                 ...  \n",
              "5801               ['romance', 'drama']  \n",
              "5802         ['music', 'documentation']  \n",
              "5803                ['family', 'drama']  \n",
              "5804             ['action', 'thriller']  \n",
              "5805  ['family', 'comedy', 'animation']  \n",
              "\n",
              "[5805 rows x 4 columns]"
            ],
            "text/html": [
              "\n",
              "  <div id=\"df-e093e6d9-0876-4a37-bb9f-44e1b571d5ef\">\n",
              "    <div class=\"colab-df-container\">\n",
              "      <div>\n",
              "<style scoped>\n",
              "    .dataframe tbody tr th:only-of-type {\n",
              "        vertical-align: middle;\n",
              "    }\n",
              "\n",
              "    .dataframe tbody tr th {\n",
              "        vertical-align: top;\n",
              "    }\n",
              "\n",
              "    .dataframe thead th {\n",
              "        text-align: right;\n",
              "    }\n",
              "</style>\n",
              "<table border=\"1\" class=\"dataframe\">\n",
              "  <thead>\n",
              "    <tr style=\"text-align: right;\">\n",
              "      <th></th>\n",
              "      <th>title</th>\n",
              "      <th>type</th>\n",
              "      <th>age_certification</th>\n",
              "      <th>genres</th>\n",
              "    </tr>\n",
              "  </thead>\n",
              "  <tbody>\n",
              "    <tr>\n",
              "      <th>0</th>\n",
              "      <td>Five Came Back: The Reference Films</td>\n",
              "      <td>SHOW</td>\n",
              "      <td>TV-MA</td>\n",
              "      <td>['documentation']</td>\n",
              "    </tr>\n",
              "    <tr>\n",
              "      <th>1</th>\n",
              "      <td>Taxi Driver</td>\n",
              "      <td>MOVIE</td>\n",
              "      <td>R</td>\n",
              "      <td>['crime', 'drama']</td>\n",
              "    </tr>\n",
              "    <tr>\n",
              "      <th>2</th>\n",
              "      <td>Monty Python and the Holy Grail</td>\n",
              "      <td>MOVIE</td>\n",
              "      <td>PG</td>\n",
              "      <td>['comedy', 'fantasy']</td>\n",
              "    </tr>\n",
              "    <tr>\n",
              "      <th>3</th>\n",
              "      <td>Life of Brian</td>\n",
              "      <td>MOVIE</td>\n",
              "      <td>R</td>\n",
              "      <td>['comedy']</td>\n",
              "    </tr>\n",
              "    <tr>\n",
              "      <th>4</th>\n",
              "      <td>The Exorcist</td>\n",
              "      <td>MOVIE</td>\n",
              "      <td>R</td>\n",
              "      <td>['horror']</td>\n",
              "    </tr>\n",
              "    <tr>\n",
              "      <th>...</th>\n",
              "      <td>...</td>\n",
              "      <td>...</td>\n",
              "      <td>...</td>\n",
              "      <td>...</td>\n",
              "    </tr>\n",
              "    <tr>\n",
              "      <th>5801</th>\n",
              "      <td>Fine Wine</td>\n",
              "      <td>MOVIE</td>\n",
              "      <td>NaN</td>\n",
              "      <td>['romance', 'drama']</td>\n",
              "    </tr>\n",
              "    <tr>\n",
              "      <th>5802</th>\n",
              "      <td>Edis Starlight</td>\n",
              "      <td>MOVIE</td>\n",
              "      <td>NaN</td>\n",
              "      <td>['music', 'documentation']</td>\n",
              "    </tr>\n",
              "    <tr>\n",
              "      <th>5803</th>\n",
              "      <td>Clash</td>\n",
              "      <td>MOVIE</td>\n",
              "      <td>NaN</td>\n",
              "      <td>['family', 'drama']</td>\n",
              "    </tr>\n",
              "    <tr>\n",
              "      <th>5804</th>\n",
              "      <td>Shadow Parties</td>\n",
              "      <td>MOVIE</td>\n",
              "      <td>NaN</td>\n",
              "      <td>['action', 'thriller']</td>\n",
              "    </tr>\n",
              "    <tr>\n",
              "      <th>5805</th>\n",
              "      <td>Mighty Little Bheem: Kite Festival</td>\n",
              "      <td>SHOW</td>\n",
              "      <td>NaN</td>\n",
              "      <td>['family', 'comedy', 'animation']</td>\n",
              "    </tr>\n",
              "  </tbody>\n",
              "</table>\n",
              "<p>5805 rows × 4 columns</p>\n",
              "</div>\n",
              "      <button class=\"colab-df-convert\" onclick=\"convertToInteractive('df-e093e6d9-0876-4a37-bb9f-44e1b571d5ef')\"\n",
              "              title=\"Convert this dataframe to an interactive table.\"\n",
              "              style=\"display:none;\">\n",
              "        \n",
              "  <svg xmlns=\"http://www.w3.org/2000/svg\" height=\"24px\"viewBox=\"0 0 24 24\"\n",
              "       width=\"24px\">\n",
              "    <path d=\"M0 0h24v24H0V0z\" fill=\"none\"/>\n",
              "    <path d=\"M18.56 5.44l.94 2.06.94-2.06 2.06-.94-2.06-.94-.94-2.06-.94 2.06-2.06.94zm-11 1L8.5 8.5l.94-2.06 2.06-.94-2.06-.94L8.5 2.5l-.94 2.06-2.06.94zm10 10l.94 2.06.94-2.06 2.06-.94-2.06-.94-.94-2.06-.94 2.06-2.06.94z\"/><path d=\"M17.41 7.96l-1.37-1.37c-.4-.4-.92-.59-1.43-.59-.52 0-1.04.2-1.43.59L10.3 9.45l-7.72 7.72c-.78.78-.78 2.05 0 2.83L4 21.41c.39.39.9.59 1.41.59.51 0 1.02-.2 1.41-.59l7.78-7.78 2.81-2.81c.8-.78.8-2.07 0-2.86zM5.41 20L4 18.59l7.72-7.72 1.47 1.35L5.41 20z\"/>\n",
              "  </svg>\n",
              "      </button>\n",
              "      \n",
              "  <style>\n",
              "    .colab-df-container {\n",
              "      display:flex;\n",
              "      flex-wrap:wrap;\n",
              "      gap: 12px;\n",
              "    }\n",
              "\n",
              "    .colab-df-convert {\n",
              "      background-color: #E8F0FE;\n",
              "      border: none;\n",
              "      border-radius: 50%;\n",
              "      cursor: pointer;\n",
              "      display: none;\n",
              "      fill: #1967D2;\n",
              "      height: 32px;\n",
              "      padding: 0 0 0 0;\n",
              "      width: 32px;\n",
              "    }\n",
              "\n",
              "    .colab-df-convert:hover {\n",
              "      background-color: #E2EBFA;\n",
              "      box-shadow: 0px 1px 2px rgba(60, 64, 67, 0.3), 0px 1px 3px 1px rgba(60, 64, 67, 0.15);\n",
              "      fill: #174EA6;\n",
              "    }\n",
              "\n",
              "    [theme=dark] .colab-df-convert {\n",
              "      background-color: #3B4455;\n",
              "      fill: #D2E3FC;\n",
              "    }\n",
              "\n",
              "    [theme=dark] .colab-df-convert:hover {\n",
              "      background-color: #434B5C;\n",
              "      box-shadow: 0px 1px 3px 1px rgba(0, 0, 0, 0.15);\n",
              "      filter: drop-shadow(0px 1px 2px rgba(0, 0, 0, 0.3));\n",
              "      fill: #FFFFFF;\n",
              "    }\n",
              "  </style>\n",
              "\n",
              "      <script>\n",
              "        const buttonEl =\n",
              "          document.querySelector('#df-e093e6d9-0876-4a37-bb9f-44e1b571d5ef button.colab-df-convert');\n",
              "        buttonEl.style.display =\n",
              "          google.colab.kernel.accessAllowed ? 'block' : 'none';\n",
              "\n",
              "        async function convertToInteractive(key) {\n",
              "          const element = document.querySelector('#df-e093e6d9-0876-4a37-bb9f-44e1b571d5ef');\n",
              "          const dataTable =\n",
              "            await google.colab.kernel.invokeFunction('convertToInteractive',\n",
              "                                                     [key], {});\n",
              "          if (!dataTable) return;\n",
              "\n",
              "          const docLinkHtml = 'Like what you see? Visit the ' +\n",
              "            '<a target=\"_blank\" href=https://colab.research.google.com/notebooks/data_table.ipynb>data table notebook</a>'\n",
              "            + ' to learn more about interactive tables.';\n",
              "          element.innerHTML = '';\n",
              "          dataTable['output_type'] = 'display_data';\n",
              "          await google.colab.output.renderOutput(dataTable, element);\n",
              "          const docLink = document.createElement('div');\n",
              "          docLink.innerHTML = docLinkHtml;\n",
              "          element.appendChild(docLink);\n",
              "        }\n",
              "      </script>\n",
              "    </div>\n",
              "  </div>\n",
              "  "
            ]
          },
          "metadata": {},
          "execution_count": 19
        }
      ]
    },
    {
      "cell_type": "markdown",
      "source": [
        "# **Exploratory Data Analysis (EDA)**"
      ],
      "metadata": {
        "id": "ld-M-P_dzEHE"
      }
    },
    {
      "cell_type": "markdown",
      "source": [
        "<h3> \n",
        "<strong>¿Quiénes son los televidentes que mejor clasifican las películas? ¿Han mejorado las puntuaciones en los últimos años de las películas para niños? ¿Cuál es el top 10 de películas por ver? ¿y de series? ¿Cuáles con las 5 series con más de 5 temporadas mejores calificadas? ¿Cómo se califican las películas de terror frente a las comedias?</strong>\n",
        "</h3>\n",
        "\n",
        "<h3>Esta base de datos nos permite hacer un análisis muy exhaustivo de la información. A medida que el curso avance vamos a poder responder a muchas de las preguntas recién planteadas. Ya comenzamos limpiando la base, eliminando los valores vacíos en algunas columnas claves y ordenando los datos.</h3>"
      ],
      "metadata": {
        "id": "ENZwqhm5or6-"
      }
    },
    {
      "cell_type": "markdown",
      "source": [
        "<h4>\n",
        "En el siguiente gráfico se muestra el enorme aumento de la última década en cuanto a cantidad de producciones a nivel mundial.\n",
        "<br>\n",
        "Lo que hacemos en este gráfico es ordenar por año el set de datos y contar para cada año cuántas preducciones se realizaron. Trabajamos con la columna 'release_year'\n",
        "</h4>"
      ],
      "metadata": {
        "id": "NOiP75yYtd9Q"
      }
    },
    {
      "cell_type": "code",
      "source": [
        "#Se realiza un gráfico de barras\n",
        "plt.figure(figsize = (15,8))\n",
        "a=df['release_year'].value_counts()\n",
        "sns.barplot(x=a.index, y=a.values, palette='Set3')\n",
        "plt.xticks(rotation=90)\n",
        "plt.show()"
      ],
      "metadata": {
        "colab": {
          "base_uri": "https://localhost:8080/",
          "height": 460
        },
        "id": "h-3ljIG1be4P",
        "outputId": "941f5bc4-1609-4355-be34-56a6734a20a4"
      },
      "execution_count": 20,
      "outputs": [
        {
          "output_type": "display_data",
          "data": {
            "text/plain": [
              "<Figure size 1080x576 with 1 Axes>"
            ],
            "image/png": "[encoded data removed]"
          },
          "metadata": {
            "needs_background": "light"
          }
        }
      ]
    },
    {
      "cell_type": "markdown",
      "source": [
        "<h4>Podemos visualizar los mismos datos pero de otra manera, en lugar de un gráfico de barras, vemos un gráfico de líneas."
      ],
      "metadata": {
        "id": "tf8l9bVnPmXi"
      }
    },
    {
      "cell_type": "code",
      "source": [
        "anio = df['release_year']\n",
        "y = anio.value_counts().sort_index(ascending=True) \n",
        "y.plot(kind='line', figsize=(8, 4)) # Graficar la serie de tiempo\n",
        "plt.gcf().autofmt_xdate() # Darle formato fecha al eje x\n",
        "plt.title('Cantidad de producciones por año')\n",
        "plt.xlabel('Cantidad')\n",
        "plt.ylabel('Año')\n",
        "plt.tight_layout() # Ajustar los ejes \n",
        "sns.set_palette('Set3')\n",
        "plt.show()"
      ],
      "metadata": {
        "id": "j1PeHQXCY-q6",
        "colab": {
          "base_uri": "https://localhost:8080/",
          "height": 297
        },
        "outputId": "5ef32164-2390-4484-b9a0-cc4274f35abf"
      },
      "execution_count": 21,
      "outputs": [
        {
          "output_type": "display_data",
          "data": {
            "text/plain": [
              "<Figure size 576x288 with 1 Axes>"
            ],
            "image/png": "[encoded data removed]"
          },
          "metadata": {
            "needs_background": "light"
          }
        }
      ]
    },
    {
      "cell_type": "markdown",
      "source": [
        "<h4>Con las columnas de 'imdb_score' y 'seasons' podemos analizar el puntaje de las series en función de la cantidad de temporadas estrenadas.\n",
        "<br><br>La dispersión de la siguiente gráfica de puntos nos muestra una tendencia, de que aquellas series con muchas temporadas, pueden tener buenos puntajes. El siguiente análisis es, si las series tiene buen puntaje y los productores realizan más temporadas o, si las series con muchas temporadas resultan mejor puntuadas por la audiencia."
      ],
      "metadata": {
        "id": "UftnOrIruVFc"
      }
    },
    {
      "cell_type": "code",
      "source": [
        "df.plot(kind='scatter', x='seasons', y='imdb_score', figsize=(10,6))\n",
        "plt.title('Dispersión de los puntajes de acuerdo a cuantas temporadas tiene')\n",
        "plt.xlabel('Temporadas')\n",
        "plt.ylabel('Puntaje')\n",
        "plt.tight_layout() # Ajustar los ejes \n",
        "sns.set_palette('Set3')\n",
        "plt.show()"
      ],
      "metadata": {
        "colab": {
          "base_uri": "https://localhost:8080/",
          "height": 478
        },
        "id": "1idS9sL9sJtv",
        "outputId": "2e4a097a-d981-4bea-d69d-6e9746919ca0"
      },
      "execution_count": 22,
      "outputs": [
        {
          "output_type": "stream",
          "name": "stderr",
          "text": [
            "WARNING:matplotlib.axes._axes:*c* argument looks like a single numeric RGB or RGBA sequence, which should be avoided as value-mapping will have precedence in case its length matches with *x* & *y*.  Please use the *color* keyword-argument or provide a 2-D array with a single row if you intend to specify the same RGB or RGBA value for all points.\n"
          ]
        },
        {
          "output_type": "display_data",
          "data": {
            "text/plain": [
              "<Figure size 720x432 with 1 Axes>"
            ],
            "image/png": "[encoded data removed]"
          },
          "metadata": {
            "needs_background": "light"
          }
        }
      ]
    },
    {
      "cell_type": "markdown",
      "source": [
        "<h4>Lo que buscamos observar con la próxima gráfica es la valoración respecto a la duración del show o película, no se puede concluir mucho por su dispersión.\n",
        "<br><br>Trabajamos con las columnas 'runtime' e 'imdb_score'"
      ],
      "metadata": {
        "id": "CkJW_Yob7gl3"
      }
    },
    {
      "cell_type": "code",
      "source": [
        "sns.set_theme(style='whitegrid', palette='Set3')\n",
        "sns.scatterplot(data=df, x=\"runtime\", y=\"imdb_score\", hue=\"type\", sizes=(8, 6))\n",
        "plt.title(\"Calificacion por duracion\")\n",
        "# Ajustar los ejes \n",
        "#f.tight_layout()\n",
        "plt.show()\n",
        "\n",
        "\n",
        "\n"
      ],
      "metadata": {
        "colab": {
          "base_uri": "https://localhost:8080/",
          "height": 301
        },
        "id": "cBfIu6o5u2UQ",
        "outputId": "5061eaa7-08db-4de8-fb06-e01fbbe489f8"
      },
      "execution_count": 23,
      "outputs": [
        {
          "output_type": "display_data",
          "data": {
            "text/plain": [
              "<Figure size 432x288 with 1 Axes>"
            ],
            "image/png": "[encoded data removed]"
          },
          "metadata": {}
        }
      ]
    },
    {
      "cell_type": "markdown",
      "source": [
        "<h4>Muestra la cantidad total de Shows o Movies de la base de datos"
      ],
      "metadata": {
        "id": "10bqd0BdEISr"
      }
    },
    {
      "cell_type": "code",
      "source": [
        "sns.histplot(data=df, x=\"type\", hue=\"type\", shrink=.8, alpha=.8, legend=False, palette='Set3')\n",
        "plt.title(\"Cantidad por tipo\")\n",
        "plt.show()"
      ],
      "metadata": {
        "colab": {
          "base_uri": "https://localhost:8080/",
          "height": 301
        },
        "id": "1RWfJU3x7uF0",
        "outputId": "888218cf-a58e-4b07-a98b-d839a176e48c"
      },
      "execution_count": 24,
      "outputs": [
        {
          "output_type": "display_data",
          "data": {
            "text/plain": [
              "<Figure size 432x288 with 1 Axes>"
            ],
            "image/png": "[encoded data removed]"
          },
          "metadata": {}
        }
      ]
    },
    {
      "cell_type": "markdown",
      "source": [
        "<h4>En la siguiente gráfica observamos la cantidad de producciones que se realizaron en toda la serie de tiempo para las distintas clasificaciones por edad.\n",
        "<br><br>Para ello trabajamos con la columna 'age_certification' y usamos la función de contar.\n"
      ],
      "metadata": {
        "id": "Lzt-v4dF18O_"
      }
    },
    {
      "cell_type": "code",
      "source": [
        "#tomo la columna age_certification para hacer la grafica de barras\n",
        "edades=df.age_certification.value_counts()"
      ],
      "metadata": {
        "id": "DDZUamMlanyd"
      },
      "execution_count": 25,
      "outputs": []
    },
    {
      "cell_type": "code",
      "source": [
        "sns.set_theme(palette='Set3')\n",
        "sns.barplot(edades.index,edades.values)\n",
        "\n",
        "plt.show()"
      ],
      "metadata": {
        "colab": {
          "base_uri": "https://localhost:8080/",
          "height": 323
        },
        "id": "R0eRw-0-au_C",
        "outputId": "1836b9ce-d4bd-45c4-e3ac-358ece79e962"
      },
      "execution_count": 26,
      "outputs": [
        {
          "output_type": "stream",
          "name": "stderr",
          "text": [
            "/usr/local/lib/python3.7/dist-packages/seaborn/_decorators.py:43: FutureWarning: Pass the following variables as keyword args: x, y. From version 0.12, the only valid positional argument will be `data`, and passing other arguments without an explicit keyword will result in an error or misinterpretation.\n",
            "  FutureWarning\n"
          ]
        },
        {
          "output_type": "display_data",
          "data": {
            "text/plain": [
              "<Figure size 432x288 with 1 Axes>"
            ],
            "image/png": "[encoded data removed]"
          },
          "metadata": {}
        }
      ]
    },
    {
      "cell_type": "markdown",
      "source": [
        "### ¿Quiénes son los televidentes que mejor clasifican las películas?\n",
        "\n",
        "<h4>Esta pregunta plantea trabajar con las columnas 'age_certification' versus 'imdb_score'"
      ],
      "metadata": {
        "id": "WTL64EYG4WON"
      }
    },
    {
      "cell_type": "code",
      "source": [
        "df['age_certification'].unique()"
      ],
      "metadata": {
        "colab": {
          "base_uri": "https://localhost:8080/"
        },
        "id": "f7uOttPBYj6J",
        "outputId": "cabe381d-ec34-40e3-b4a1-8f9ca3d16c0a"
      },
      "execution_count": 27,
      "outputs": [
        {
          "output_type": "execute_result",
          "data": {
            "text/plain": [
              "array(['TV-MA', 'R', 'PG', 'TV-14', 'G', 'PG-13', nan, 'TV-PG', 'TV-Y',\n",
              "       'TV-G', 'TV-Y7', 'NC-17'], dtype=object)"
            ]
          },
          "metadata": {},
          "execution_count": 27
        }
      ]
    },
    {
      "cell_type": "markdown",
      "source": [
        "De acuerdo a la información de Netflix (https://help.netflix.com/es/node/2064/us):\n",
        "\n",
        "<ul><strong>Niños</strong>\n",
        "<li> TV-Y: Pensada como apropiada para todos los niños\n",
        "<li> TV-Y7: Adecuada para niños a partir de los 7 años\n",
        "<li> G: Adecuada para público en general\n",
        "<li> TV-G: Adecuada para público en general\n",
        "<li> PG: Se sugiere orientación de los padres\n",
        "<li> TV-PG: Se sugiere orientación de los padres\n",
        "</ul><br>\n",
        "<ul><strong>Adolescentes</strong>\n",
        "<li> PG-13: Se advierte enfáticamente a los padres.Puede ser inapropiada para niños de 12 años y menores.\n",
        "<li> TV-14: Se advierte enfáticamente a los padres.Puede ser inadecuada para niños de 14 años y menores.\n",
        "</ul><br>\n",
        "<ul><strong>Adultos</strong>\n",
        "<li> R: Restringida.Puede ser inapropiada para niños de 17 años y menores.\n",
        "<li> TV-MA: Para público adulto.Puede ser inadecuada para niños de 17 años y menores.\n",
        "<li> NC-17:Inapropiada para niños de 17 años y menores\n",
        "</ul>\n",
        "\n",
        "\n",
        "Por lo tanto, podemos separar estas categorías de acuerdo a si son para niños, adolescentes o adultos.\n",
        "\n",
        "\n",
        "Debemos tener en cuenta que en la categoría Nilios, incluimos el contenido apto para todo público."
      ],
      "metadata": {
        "id": "ZbfUHmRFZazo"
      }
    },
    {
      "cell_type": "code",
      "source": [
        "#df.isna().sum()\n",
        "#df.groupby('age_certification').count()"
      ],
      "metadata": {
        "id": "FDLAHE2Lnthx"
      },
      "execution_count": 28,
      "outputs": []
    },
    {
      "cell_type": "code",
      "source": [
        "#Crear un dataframe igual al original para modificarlo\n",
        "df2 = df\n",
        "# Crear un DF en el que se eliminen las filas donde la 'age_certification' sea NAN\n",
        "df2_sin_nan = df2[df2.age_certification.notnull()]\n",
        "# Añadir nueva columna basada en la clasificación:\n",
        "map_dictionary ={'TV-PG' : \"Ninios\", 'TV-Y' : \"Ninios\",'TV-G' : \"Ninios\",'TV-Y7' : \"Ninios\",'PG' : \"Ninios\",'G' : \"Ninios\", 'TV-14' : \"Adolescentes\",'PG-13' : \"Adolescentes\", 'R': \"Adultos\", 'TV-MA':\"Adultos\", 'NC-17': \"Adultos\"}\n",
        "df2_sin_nan['Edad']= df2_sin_nan['age_certification'].map(map_dictionary)\n",
        "#print(df2.head(20))\n",
        "#print()\n",
        "#print(df2_sin_nan.head())"
      ],
      "metadata": {
        "id": "mPbd-QJKGrg8",
        "colab": {
          "base_uri": "https://localhost:8080/"
        },
        "outputId": "bc2ebaa8-c5a8-46ef-aca7-de191bc8c261"
      },
      "execution_count": 29,
      "outputs": [
        {
          "output_type": "stream",
          "name": "stderr",
          "text": [
            "/usr/local/lib/python3.7/dist-packages/ipykernel_launcher.py:7: SettingWithCopyWarning: \n",
            "A value is trying to be set on a copy of a slice from a DataFrame.\n",
            "Try using .loc[row_indexer,col_indexer] = value instead\n",
            "\n",
            "See the caveats in the documentation: https://pandas.pydata.org/pandas-docs/stable/user_guide/indexing.html#returning-a-view-versus-a-copy\n",
            "  import sys\n"
          ]
        }
      ]
    },
    {
      "cell_type": "code",
      "source": [
        "#procedemos a graficar las puntuaciones de las producciones en un gráfico de cajas, en función\n",
        "#de la franja etaria que clasifica: Niños, Adolescentes, Adultos.\n",
        "sns.set_theme(style='ticks', palette='Set3')\n",
        "sns.boxplot(data=df2_sin_nan, x=\"Edad\", y=\"imdb_score\")\n",
        "plt.title('Puntuación en función de la clasificación etaria')\n",
        "plt.xlabel(\"Edad\");\n",
        "plt.ylabel(\"Puntaje\");\n",
        "# Ajustar los ejes \n",
        "#f.tight_layout()\n",
        "plt.show()"
      ],
      "metadata": {
        "id": "-4QM-7fvJ5nF",
        "colab": {
          "base_uri": "https://localhost:8080/",
          "height": 301
        },
        "outputId": "eac97c0c-c64b-4005-9a71-16dab4f993a1"
      },
      "execution_count": 30,
      "outputs": [
        {
          "output_type": "display_data",
          "data": {
            "text/plain": [
              "<Figure size 432x288 with 1 Axes>"
            ],
            "image/png": "[encoded data removed]"
          },
          "metadata": {}
        }
      ]
    },
    {
      "cell_type": "markdown",
      "source": [
        "<h5><strong>Quienes mejor clasifican las producciones con los adolescentes, pero la distribución y la media es bastante similar para todas las edades\n",
        "</h4>"
      ],
      "metadata": {
        "id": "sdrH5WJtKxQp"
      }
    },
    {
      "cell_type": "markdown",
      "source": [
        "### ¿Han mejorado las puntuaciones en los últimos años de las películas para niños?\n",
        "\n",
        "<h4>Separaremos las películas de tipo de producción (columna 'type'), luego aquellas con calificación para niños de la columna 'age_certificaction', analizaremos la columna de puntuaciones 'imdb_score' o 'tmdb_score' en función de los años."
      ],
      "metadata": {
        "id": "aGbJcCTwLA3S"
      }
    },
    {
      "cell_type": "code",
      "source": [
        "df_pelis = df2_sin_nan[df2_sin_nan['type']=='MOVIE']\n",
        "df_pelis_ninios = df_pelis[df_pelis['Edad']=='Ninios']\n",
        "#df_pelis_ninios.head()"
      ],
      "metadata": {
        "id": "XwRj4gX7LFTH"
      },
      "execution_count": 31,
      "outputs": []
    },
    {
      "cell_type": "code",
      "source": [
        "sns.set_theme(style='ticks', palette='Set3')\n",
        "sns.lineplot(data=df_pelis_ninios, x=\"release_year\", y=\"imdb_score\")\n",
        "plt.title('Puntuación de películas para niños en función del año de producción')\n",
        "plt.xlabel(\"Año\");\n",
        "plt.ylabel(\"Puntaje\");\n",
        "# Ajustar los ejes \n",
        "#f.tight_layout()\n",
        "plt.show()"
      ],
      "metadata": {
        "colab": {
          "base_uri": "https://localhost:8080/",
          "height": 301
        },
        "id": "MxQig2YCN8dN",
        "outputId": "20fc1c2b-bf79-4ff1-8af0-8df6b1e1a760"
      },
      "execution_count": 32,
      "outputs": [
        {
          "output_type": "display_data",
          "data": {
            "text/plain": [
              "<Figure size 432x288 with 1 Axes>"
            ],
            "image/png": "[encoded data removed]"
          },
          "metadata": {}
        }
      ]
    },
    {
      "cell_type": "markdown",
      "source": [
        "<h5><strong>La puntuación promedio de las películas para niños a lo largo de los años ha ido disminuyendo. Debemos tener en cuenta que en las primeras décadas de los datos no se observa dispersión de puntación debido seguramente a las pocas producciones de esos años. Sin embargo, en la década del 90 encontramos películas con puntuaciones promedios muy superiores a la media y otras muy inferiores. Acercándonos al 2020, las puntuaciones se encuentran alrededor de los 6/10 puntos.\n",
        "Investigando un poco más este resultado, la empresas productoras podrían decidir sobre el tipo de películas que más atraen a los niños para proponer futuras producciones."
      ],
      "metadata": {
        "id": "szDzJhVISmlF"
      }
    },
    {
      "cell_type": "markdown",
      "source": [
        "### ¿Cuál es el top 10 de películas para adultos? \n",
        "\n",
        "<h4>(Analizaremos la puntuaciones de la películas, ordenarlas, ver los 10 primeros datos.)\n"
      ],
      "metadata": {
        "id": "W_rr2LrbTrzT"
      }
    },
    {
      "cell_type": "code",
      "source": [
        "df_pelis_adultos = df_pelis[df_pelis['Edad']=='Adultos']\n",
        "pelis_adultos_ordenadas = df_pelis_adultos.sort_values([\"imdb_score\"], ascending=False)\n",
        "#pelis_adultos_ordenadas.head(10)"
      ],
      "metadata": {
        "id": "e6gngbAqTyPu"
      },
      "execution_count": 33,
      "outputs": []
    },
    {
      "cell_type": "code",
      "source": [
        "sns.set_theme(style='ticks', palette='Set3')\n",
        "sns.barplot(data=pelis_adultos_ordenadas.head(10), x=\"title\", y=\"imdb_score\")\n",
        "plt.title('10 mejores puntuaciones de películas para adultos', fontsize=15)\n",
        "plt.xlabel(\"Película\");\n",
        "plt.ylabel(\"Puntaje\");\n",
        "# Ajustar los ejes \n",
        "#f.tight_layout()\n",
        "plt.rcParams[\"figure.figsize\"] = (10,5)\n",
        "plt.xticks(rotation=20)\n",
        "plt.show()\n"
      ],
      "metadata": {
        "colab": {
          "base_uri": "https://localhost:8080/",
          "height": 375
        },
        "id": "KhEM1v6HawMm",
        "outputId": "b8e7f6be-ff26-48e9-bf56-410858db8650"
      },
      "execution_count": 34,
      "outputs": [
        {
          "output_type": "display_data",
          "data": {
            "text/plain": [
              "<Figure size 432x288 with 1 Axes>"
            ],
            "image/png": "[encoded data removed]"
          },
          "metadata": {}
        }
      ]
    },
    {
      "cell_type": "markdown",
      "source": [
        "<h5><strong>Estas son las 10 películas de adultos mejores puntuadas en la plataforma de Netflix"
      ],
      "metadata": {
        "id": "QYlM-1tbTZhI"
      }
    },
    {
      "cell_type": "markdown",
      "source": [
        "###¿y de series?\n",
        "<h4>Haremos el mismo análisis, pero separando series de 'type'."
      ],
      "metadata": {
        "id": "atsyeVWv-BPw"
      }
    },
    {
      "cell_type": "code",
      "source": [
        "df_series = df2_sin_nan[df2_sin_nan['type']=='SHOW']\n",
        "df_series_adultos = df_series[df_series['Edad']=='Adultos']\n",
        "series_adultos_ordenadas = df_series_adultos.sort_values([\"imdb_score\"], ascending=False)\n",
        "#series_adultos_ordenadas.head(10)\n",
        "sns.set_theme(style='ticks', palette='Set3')\n",
        "sns.barplot(data=series_adultos_ordenadas.head(10), x=\"title\", y=\"imdb_score\")\n",
        "plt.title('10 mejores puntuaciones de series para adultos', fontsize=15)\n",
        "plt.xlabel(\"Serie\");\n",
        "plt.ylabel(\"Puntaje\");\n",
        "# Ajustar los ejes \n",
        "#f.tight_layout()\n",
        "plt.rcParams[\"figure.figsize\"] = (18,5)\n",
        "plt.xticks(rotation=20)\n",
        "plt.show()"
      ],
      "metadata": {
        "colab": {
          "base_uri": "https://localhost:8080/",
          "height": 392
        },
        "id": "B4GsliDC-SWc",
        "outputId": "96cedd36-332c-4c5d-b7b8-5c1bc5c447fc"
      },
      "execution_count": 35,
      "outputs": [
        {
          "output_type": "display_data",
          "data": {
            "text/plain": [
              "<Figure size 720x360 with 1 Axes>"
            ],
            "image/png": "[encoded data removed]"
          },
          "metadata": {}
        }
      ]
    },
    {
      "cell_type": "markdown",
      "source": [
        "<h5><strong>Se observan las 10 series mejor puntuadas para adultos en Netflix"
      ],
      "metadata": {
        "id": "4sl5xyVK_83N"
      }
    },
    {
      "cell_type": "markdown",
      "source": [
        "###¿En qué año se produjeron más películas?\n"
      ],
      "metadata": {
        "id": "wLBJuq4CrTyH"
      }
    },
    {
      "cell_type": "code",
      "source": [
        "plt.figure(figsize=(12,10))\n",
        "sns.set(style=\"darkgrid\")\n",
        "ax = sns.countplot(y=\"release_year\", data=df_pelis, palette=\"Set3\", order=df_pelis['release_year'].value_counts().index[0:15])"
      ],
      "metadata": {
        "colab": {
          "base_uri": "https://localhost:8080/",
          "height": 611
        },
        "id": "1aTDFtsirFjW",
        "outputId": "d1fbbf08-95c5-481e-e18d-8fc79215cc84"
      },
      "execution_count": 36,
      "outputs": [
        {
          "output_type": "display_data",
          "data": {
            "text/plain": [
              "<Figure size 864x720 with 1 Axes>"
            ],
            "image/png": "[encoded data removed]"
          },
          "metadata": {}
        }
      ]
    },
    {
      "cell_type": "markdown",
      "source": [
        "<h5>Observamos que el año en qué más películas se produjeron fue el 2018"
      ],
      "metadata": {
        "id": "Exfq6OR0rjik"
      }
    },
    {
      "cell_type": "markdown",
      "source": [
        "###¿Cuales con las 5 series con más de 5 temporadas mejores calificadas?\n",
        "<h4>Separamos las series de 'type', separar de la columna 'seasons' las que tienen desde 6 en adelante, ordenar por puntajes y visualizar las primeras 5."
      ],
      "metadata": {
        "id": "YafYoMg5VlTd"
      }
    },
    {
      "cell_type": "code",
      "source": [
        "df_series.columns"
      ],
      "metadata": {
        "colab": {
          "base_uri": "https://localhost:8080/"
        },
        "id": "krfo-Ffais94",
        "outputId": "a07bf17f-3d57-40f6-d92b-7c8b1e67ee85"
      },
      "execution_count": 37,
      "outputs": [
        {
          "output_type": "execute_result",
          "data": {
            "text/plain": [
              "Index(['title', 'type', 'description', 'release_year', 'age_certification',\n",
              "       'runtime', 'genres', 'production_countries', 'seasons', 'imdb_score',\n",
              "       'imdb_votes', 'tmdb_popularity', 'tmdb_score', 'Edad'],\n",
              "      dtype='object')"
            ]
          },
          "metadata": {},
          "execution_count": 37
        }
      ]
    },
    {
      "cell_type": "code",
      "source": [
        "series_ordenadas = df_series.sort_values([\"imdb_score\"], ascending=False)\n",
        "df_series_mas5 = df_series[df_series['seasons']>=6]\n",
        "#df_series_mas5.head()\n",
        "sns.set_theme(style='ticks', palette='Set3')\n",
        "sns.barplot(data=df_series_mas5.head(), x=\"title\", y=\"imdb_score\")\n",
        "plt.title('5 series con más de 5 temporadas mejores calificadas', fontsize=15)\n",
        "plt.xlabel(\"Serie\");\n",
        "plt.ylabel(\"Puntaje\");\n",
        "\n",
        "plt.rcParams[\"figure.figsize\"] = (18,5)\n",
        "plt.xticks(rotation=20)\n",
        "plt.show()"
      ],
      "metadata": {
        "id": "39Vp8xz7iLRd",
        "colab": {
          "base_uri": "https://localhost:8080/",
          "height": 305
        },
        "outputId": "f6fb8798-08bb-4308-d51d-4ed129e867b2"
      },
      "execution_count": 38,
      "outputs": [
        {
          "output_type": "display_data",
          "data": {
            "text/plain": [
              "<Figure size 1296x360 with 1 Axes>"
            ],
            "image/png": "[encoded data removed]"
          },
          "metadata": {}
        }
      ]
    },
    {
      "cell_type": "code",
      "source": [
        "'''def convert_to_series(dataframe):\n",
        "    genres = []\n",
        "    production_country = []\n",
        "    seasons = []\n",
        "    production_total = [x.replace(\"[\", \"\").replace(\"]\", \"\").replace(\"'\", \"\").split(\",\")[0] for x in dataframe[\"production_countries\"].value_counts().sort_values(ascending=False).keys().unique()[:21]]\n",
        "    for row in dataframe[\"genres\"]:\n",
        "        row_modified = row.replace(\"[\", \"\").replace(\"]\", \"\").replace(\"'\", \"\").split(\",\")\n",
        "        for genre in row_modified:\n",
        "            genres.append(genre)\n",
        "    for row in dataframe[\"production_countries\"]:\n",
        "        row_modified = row.replace(\"[\", \"\").replace(\"]\", \"\").replace(\"'\", \"\").split(\",\")\n",
        "        for country in row_modified:\n",
        "            if country in production_total:\n",
        "                production_country.append(country)\n",
        "    for row in df2_sin_nan[~df2_sin_nan[\"seasons\"].isna()][\"seasons\"]:\n",
        "            seasons.append(int(row))\n",
        "    genres_df = pd.DataFrame(genres)\n",
        "    production_df = pd.DataFrame(production_country)\n",
        "    seasons_df = pd.DataFrame(seasons)\n",
        "    return genres_df, production_df, seasons_df\n",
        "\n",
        "genres, production_country, seasons = convert_to_series(df2_sin_nan)\n",
        "genres = genres.drop(axis = 0, index = 36)\n",
        "production_country = production_country[production_country[0] != '']'''"
      ],
      "metadata": {
        "id": "WtHnbQtgL-d2",
        "colab": {
          "base_uri": "https://localhost:8080/",
          "height": 196
        },
        "outputId": "d3869f34-c41e-496d-da1c-5f9b81b109ac"
      },
      "execution_count": 39,
      "outputs": [
        {
          "output_type": "execute_result",
          "data": {
            "text/plain": [
              "'def convert_to_series(dataframe):\\n    genres = []\\n    production_country = []\\n    seasons = []\\n    production_total = [x.replace(\"[\", \"\").replace(\"]\", \"\").replace(\"\\'\", \"\").split(\",\")[0] for x in dataframe[\"production_countries\"].value_counts().sort_values(ascending=False).keys().unique()[:21]]\\n    for row in dataframe[\"genres\"]:\\n        row_modified = row.replace(\"[\", \"\").replace(\"]\", \"\").replace(\"\\'\", \"\").split(\",\")\\n        for genre in row_modified:\\n            genres.append(genre)\\n    for row in dataframe[\"production_countries\"]:\\n        row_modified = row.replace(\"[\", \"\").replace(\"]\", \"\").replace(\"\\'\", \"\").split(\",\")\\n        for country in row_modified:\\n            if country in production_total:\\n                production_country.append(country)\\n    for row in df2_sin_nan[~df2_sin_nan[\"seasons\"].isna()][\"seasons\"]:\\n            seasons.append(int(row))\\n    genres_df = pd.DataFrame(genres)\\n    production_df = pd.DataFrame(production_country)\\n    seasons_df = pd.DataFrame(seasons)\\n    return genres_df, production_df, seasons_df\\n\\ngenres, production_country, seasons = convert_to_series(df2_sin_nan)\\ngenres = genres.drop(axis = 0, index = 36)\\nproduction_country = production_country[production_country[0] != \\'\\']'"
            ],
            "application/vnd.google.colaboratory.intrinsic+json": {
              "type": "string"
            }
          },
          "metadata": {},
          "execution_count": 39
        }
      ]
    },
    {
      "cell_type": "code",
      "source": [
        "#generos_total=genres.value_counts()\n",
        "#generos_total.head()"
      ],
      "metadata": {
        "id": "7ig_DfbBP_W3"
      },
      "execution_count": 40,
      "outputs": []
    },
    {
      "cell_type": "markdown",
      "source": [
        "###¿Cuántas series/películas hay por género?"
      ],
      "metadata": {
        "id": "6ERo1CUEGbIE"
      }
    },
    {
      "cell_type": "code",
      "source": [
        "df[\"genres\"] = df[\"genres\"].apply(lambda x: re.findall(\"\\w+\", x))\n",
        "\n",
        "genres = list(df[\"genres\"].values)\n",
        "genres = list(set([item for sublist in genres for item in sublist]))\n",
        "\n",
        "for i, genre in enumerate(genres):\n",
        "    df[genre] = df.genres.apply(lambda x: 1 if genre in x else 0).astype(int)\n",
        "\n",
        "print(\"Number of Genres: \", len(genres))\n",
        "print(\"Genres:\", genres)"
      ],
      "metadata": {
        "colab": {
          "base_uri": "https://localhost:8080/"
        },
        "id": "RP3ax14rSQ1k",
        "outputId": "677dbc34-5e08-486f-b88e-0d169537f3fe"
      },
      "execution_count": 41,
      "outputs": [
        {
          "output_type": "stream",
          "name": "stdout",
          "text": [
            "Number of Genres:  19\n",
            "Genres: ['documentation', 'action', 'european', 'history', 'fantasy', 'war', 'reality', 'crime', 'western', 'thriller', 'family', 'romance', 'sport', 'animation', 'drama', 'comedy', 'scifi', 'horror', 'music']\n"
          ]
        }
      ]
    },
    {
      "cell_type": "code",
      "source": [
        "genre_movie_dict = {}\n",
        "\n",
        "for genre in genres:\n",
        "    genre_movie_dict[genre] = df.query(\"type == 'MOVIE'\")[genre].sum()\n",
        "\n",
        "genre_movie_dict = dict(sorted(genre_movie_dict.items(), key=lambda x: x[0]))\n",
        "\n",
        "genre_series_dict = {}\n",
        "\n",
        "for genre in genres:\n",
        "    genre_series_dict[genre] = df.query(\"type == 'SHOW'\")[genre].sum()\n",
        "\n",
        "genre_series_dict = dict(sorted(genre_series_dict.items(), key=lambda x: x[0]))\n",
        "\n",
        "fig = sp.make_subplots(\n",
        "    rows=2,\n",
        "    cols=1,\n",
        "    subplot_titles=[\"Películas\", \"Series\"],\n",
        ")\n",
        "\n",
        "genre_movie_count = go.Bar(\n",
        "    x=list(genre_movie_dict.keys()),\n",
        "    y=list(genre_movie_dict.values()),\n",
        "    marker=dict(color=list(genre_movie_dict.values()),\n",
        "                colorscale=px.colors.qualitative.Dark2),\n",
        "    name=\"Películas\",\n",
        ")\n",
        "\n",
        "genre_series_count = go.Bar(\n",
        "    x=list(genre_series_dict.keys()),\n",
        "    y=list(genre_series_dict.values()),\n",
        "    marker=dict(color=list(genre_series_dict.values()),\n",
        "                colorscale=px.colors.qualitative.Dark2),\n",
        "    name=\"Series\",\n",
        ")\n",
        "\n",
        "fig.add_trace(genre_movie_count, row=1, col=1)\n",
        "fig.update_xaxes(title_text=\"Género\", row=1, col=1)\n",
        "fig.update_yaxes(title_text=\"Cantidad\", row=1, col=1)\n",
        "\n",
        "fig.add_trace(genre_series_count, row=2, col=1)\n",
        "fig.update_xaxes(title_text=\"Género\", row=2, col=1)\n",
        "fig.update_yaxes(title_text=\"Cantidad\", row=2, col=1)\n",
        "\n",
        "fig.update(\n",
        "    layout_title_text=\"Cantidad de películas o series por género\",\n",
        "    layout_title_font_size=30,\n",
        "    layout_title_x=0.5,\n",
        "    layout_template=\"plotly\",\n",
        "    layout_showlegend=False,\n",
        "    layout_height=800,\n",
        "    layout_paper_bgcolor='rgb(229, 237, 247)',\n",
        "    layout_plot_bgcolor='rgb(229, 237, 247)',\n",
        ")\n",
        "\n",
        "fig.update_annotations(font_size=18)\n",
        "\n",
        "fig.show()"
      ],
      "metadata": {
        "colab": {
          "base_uri": "https://localhost:8080/",
          "height": 817
        },
        "id": "xC3bePKzSPiS",
        "outputId": "8a022a83-937e-4399-8b6a-2e9bc844d6b8"
      },
      "execution_count": 42,
      "outputs": [
        {
          "output_type": "display_data",
          "data": {
            "text/html": [
              "<html>\n",
              "<head><meta charset=\"utf-8\" /></head>\n",
              "<body>\n",
              "    <div>            <script src=\"https://cdnjs.cloudflare.com/ajax/libs/mathjax/2.7.5/MathJax.js?config=TeX-AMS-MML_SVG\"></script><script type=\"text/javascript\">if (window.MathJax) {MathJax.Hub.Config({SVG: {font: \"STIX-Web\"}});}</script>                <script type=\"text/javascript\">window.PlotlyConfig = {MathJaxConfig: 'local'};</script>\n",
              "        <script src=\"https://cdn.plot.ly/plotly-2.8.3.min.js\"></script>                <div id=\"f011a44c-477b-40f8-85e7-4b14057e108c\" class=\"plotly-graph-div\" style=\"height:800px; width:100%;\"></div>            <script type=\"text/javascript\">                                    window.PLOTLYENV=window.PLOTLYENV || {};                                    if (document.getElementById(\"f011a44c-477b-40f8-85e7-4b14057e108c\")) {                    Plotly.newPlot(                        \"f011a44c-477b-40f8-85e7-4b14057e108c\",                        [{\"marker\":{\"color\":[641,271,1543,524,590,1864,357,329,321,137,267,172,9,694,210,111,830,94,31],\"colorscale\":[[0.0,\"rgb(27,158,119)\"],[0.14285714285714285,\"rgb(217,95,2)\"],[0.2857142857142857,\"rgb(117,112,179)\"],[0.42857142857142855,\"rgb(231,41,138)\"],[0.5714285714285714,\"rgb(102,166,30)\"],[0.7142857142857143,\"rgb(230,171,2)\"],[0.8571428571428571,\"rgb(166,118,29)\"],[1.0,\"rgb(102,102,102)\"]]},\"name\":\"Pel\\u00edculas\",\"x\":[\"action\",\"animation\",\"comedy\",\"crime\",\"documentation\",\"drama\",\"european\",\"family\",\"fantasy\",\"history\",\"horror\",\"music\",\"reality\",\"romance\",\"scifi\",\"sport\",\"thriller\",\"war\",\"western\"],\"y\":[641,271,1543,524,590,1864,357,329,321,137,267,172,9,694,210,111,830,94,31],\"type\":\"bar\",\"xaxis\":\"x\",\"yaxis\":\"y\"},{\"marker\":{\"color\":[412,394,726,367,320,1037,103,293,310,96,113,66,214,264,377,55,348,55,13],\"colorscale\":[[0.0,\"rgb(27,158,119)\"],[0.14285714285714285,\"rgb(217,95,2)\"],[0.2857142857142857,\"rgb(117,112,179)\"],[0.42857142857142855,\"rgb(231,41,138)\"],[0.5714285714285714,\"rgb(102,166,30)\"],[0.7142857142857143,\"rgb(230,171,2)\"],[0.8571428571428571,\"rgb(166,118,29)\"],[1.0,\"rgb(102,102,102)\"]]},\"name\":\"Series\",\"x\":[\"action\",\"animation\",\"comedy\",\"crime\",\"documentation\",\"drama\",\"european\",\"family\",\"fantasy\",\"history\",\"horror\",\"music\",\"reality\",\"romance\",\"scifi\",\"sport\",\"thriller\",\"war\",\"western\"],\"y\":[412,394,726,367,320,1037,103,293,310,96,113,66,214,264,377,55,348,55,13],\"type\":\"bar\",\"xaxis\":\"x2\",\"yaxis\":\"y2\"}],                        {\"template\":{\"data\":{\"bar\":[{\"error_x\":{\"color\":\"#2a3f5f\"},\"error_y\":{\"color\":\"#2a3f5f\"},\"marker\":{\"line\":{\"color\":\"#E5ECF6\",\"width\":0.5},\"pattern\":{\"fillmode\":\"overlay\",\"size\":10,\"solidity\":0.2}},\"type\":\"bar\"}],\"barpolar\":[{\"marker\":{\"line\":{\"color\":\"#E5ECF6\",\"width\":0.5},\"pattern\":{\"fillmode\":\"overlay\",\"size\":10,\"solidity\":0.2}},\"type\":\"barpolar\"}],\"carpet\":[{\"aaxis\":{\"endlinecolor\":\"#2a3f5f\",\"gridcolor\":\"white\",\"linecolor\":\"white\",\"minorgridcolor\":\"white\",\"startlinecolor\":\"#2a3f5f\"},\"baxis\":{\"endlinecolor\":\"#2a3f5f\",\"gridcolor\":\"white\",\"linecolor\":\"white\",\"minorgridcolor\":\"white\",\"startlinecolor\":\"#2a3f5f\"},\"type\":\"carpet\"}],\"choropleth\":[{\"colorbar\":{\"outlinewidth\":0,\"ticks\":\"\"},\"type\":\"choropleth\"}],\"contour\":[{\"colorbar\":{\"outlinewidth\":0,\"ticks\":\"\"},\"colorscale\":[[0.0,\"#0d0887\"],[0.1111111111111111,\"#46039f\"],[0.2222222222222222,\"#7201a8\"],[0.3333333333333333,\"#9c179e\"],[0.4444444444444444,\"#bd3786\"],[0.5555555555555556,\"#d8576b\"],[0.6666666666666666,\"#ed7953\"],[0.7777777777777778,\"#fb9f3a\"],[0.8888888888888888,\"#fdca26\"],[1.0,\"#f0f921\"]],\"type\":\"contour\"}],\"contourcarpet\":[{\"colorbar\":{\"outlinewidth\":0,\"ticks\":\"\"},\"type\":\"contourcarpet\"}],\"heatmap\":[{\"colorbar\":{\"outlinewidth\":0,\"ticks\":\"\"},\"colorscale\":[[0.0,\"#0d0887\"],[0.1111111111111111,\"#46039f\"],[0.2222222222222222,\"#7201a8\"],[0.3333333333333333,\"#9c179e\"],[0.4444444444444444,\"#bd3786\"],[0.5555555555555556,\"#d8576b\"],[0.6666666666666666,\"#ed7953\"],[0.7777777777777778,\"#fb9f3a\"],[0.8888888888888888,\"#fdca26\"],[1.0,\"#f0f921\"]],\"type\":\"heatmap\"}],\"heatmapgl\":[{\"colorbar\":{\"outlinewidth\":0,\"ticks\":\"\"},\"colorscale\":[[0.0,\"#0d0887\"],[0.1111111111111111,\"#46039f\"],[0.2222222222222222,\"#7201a8\"],[0.3333333333333333,\"#9c179e\"],[0.4444444444444444,\"#bd3786\"],[0.5555555555555556,\"#d8576b\"],[0.6666666666666666,\"#ed7953\"],[0.7777777777777778,\"#fb9f3a\"],[0.8888888888888888,\"#fdca26\"],[1.0,\"#f0f921\"]],\"type\":\"heatmapgl\"}],\"histogram\":[{\"marker\":{\"pattern\":{\"fillmode\":\"overlay\",\"size\":10,\"solidity\":0.2}},\"type\":\"histogram\"}],\"histogram2d\":[{\"colorbar\":{\"outlinewidth\":0,\"ticks\":\"\"},\"colorscale\":[[0.0,\"#0d0887\"],[0.1111111111111111,\"#46039f\"],[0.2222222222222222,\"#7201a8\"],[0.3333333333333333,\"#9c179e\"],[0.4444444444444444,\"#bd3786\"],[0.5555555555555556,\"#d8576b\"],[0.6666666666666666,\"#ed7953\"],[0.7777777777777778,\"#fb9f3a\"],[0.8888888888888888,\"#fdca26\"],[1.0,\"#f0f921\"]],\"type\":\"histogram2d\"}],\"histogram2dcontour\":[{\"colorbar\":{\"outlinewidth\":0,\"ticks\":\"\"},\"colorscale\":[[0.0,\"#0d0887\"],[0.1111111111111111,\"#46039f\"],[0.2222222222222222,\"#7201a8\"],[0.3333333333333333,\"#9c179e\"],[0.4444444444444444,\"#bd3786\"],[0.5555555555555556,\"#d8576b\"],[0.6666666666666666,\"#ed7953\"],[0.7777777777777778,\"#fb9f3a\"],[0.8888888888888888,\"#fdca26\"],[1.0,\"#f0f921\"]],\"type\":\"histogram2dcontour\"}],\"mesh3d\":[{\"colorbar\":{\"outlinewidth\":0,\"ticks\":\"\"},\"type\":\"mesh3d\"}],\"parcoords\":[{\"line\":{\"colorbar\":{\"outlinewidth\":0,\"ticks\":\"\"}},\"type\":\"parcoords\"}],\"pie\":[{\"automargin\":true,\"type\":\"pie\"}],\"scatter\":[{\"marker\":{\"colorbar\":{\"outlinewidth\":0,\"ticks\":\"\"}},\"type\":\"scatter\"}],\"scatter3d\":[{\"line\":{\"colorbar\":{\"outlinewidth\":0,\"ticks\":\"\"}},\"marker\":{\"colorbar\":{\"outlinewidth\":0,\"ticks\":\"\"}},\"type\":\"scatter3d\"}],\"scattercarpet\":[{\"marker\":{\"colorbar\":{\"outlinewidth\":0,\"ticks\":\"\"}},\"type\":\"scattercarpet\"}],\"scattergeo\":[{\"marker\":{\"colorbar\":{\"outlinewidth\":0,\"ticks\":\"\"}},\"type\":\"scattergeo\"}],\"scattergl\":[{\"marker\":{\"colorbar\":{\"outlinewidth\":0,\"ticks\":\"\"}},\"type\":\"scattergl\"}],\"scattermapbox\":[{\"marker\":{\"colorbar\":{\"outlinewidth\":0,\"ticks\":\"\"}},\"type\":\"scattermapbox\"}],\"scatterpolar\":[{\"marker\":{\"colorbar\":{\"outlinewidth\":0,\"ticks\":\"\"}},\"type\":\"scatterpolar\"}],\"scatterpolargl\":[{\"marker\":{\"colorbar\":{\"outlinewidth\":0,\"ticks\":\"\"}},\"type\":\"scatterpolargl\"}],\"scatterternary\":[{\"marker\":{\"colorbar\":{\"outlinewidth\":0,\"ticks\":\"\"}},\"type\":\"scatterternary\"}],\"surface\":[{\"colorbar\":{\"outlinewidth\":0,\"ticks\":\"\"},\"colorscale\":[[0.0,\"#0d0887\"],[0.1111111111111111,\"#46039f\"],[0.2222222222222222,\"#7201a8\"],[0.3333333333333333,\"#9c179e\"],[0.4444444444444444,\"#bd3786\"],[0.5555555555555556,\"#d8576b\"],[0.6666666666666666,\"#ed7953\"],[0.7777777777777778,\"#fb9f3a\"],[0.8888888888888888,\"#fdca26\"],[1.0,\"#f0f921\"]],\"type\":\"surface\"}],\"table\":[{\"cells\":{\"fill\":{\"color\":\"#EBF0F8\"},\"line\":{\"color\":\"white\"}},\"header\":{\"fill\":{\"color\":\"#C8D4E3\"},\"line\":{\"color\":\"white\"}},\"type\":\"table\"}]},\"layout\":{\"annotationdefaults\":{\"arrowcolor\":\"#2a3f5f\",\"arrowhead\":0,\"arrowwidth\":1},\"autotypenumbers\":\"strict\",\"coloraxis\":{\"colorbar\":{\"outlinewidth\":0,\"ticks\":\"\"}},\"colorscale\":{\"diverging\":[[0,\"#8e0152\"],[0.1,\"#c51b7d\"],[0.2,\"#de77ae\"],[0.3,\"#f1b6da\"],[0.4,\"#fde0ef\"],[0.5,\"#f7f7f7\"],[0.6,\"#e6f5d0\"],[0.7,\"#b8e186\"],[0.8,\"#7fbc41\"],[0.9,\"#4d9221\"],[1,\"#276419\"]],\"sequential\":[[0.0,\"#0d0887\"],[0.1111111111111111,\"#46039f\"],[0.2222222222222222,\"#7201a8\"],[0.3333333333333333,\"#9c179e\"],[0.4444444444444444,\"#bd3786\"],[0.5555555555555556,\"#d8576b\"],[0.6666666666666666,\"#ed7953\"],[0.7777777777777778,\"#fb9f3a\"],[0.8888888888888888,\"#fdca26\"],[1.0,\"#f0f921\"]],\"sequentialminus\":[[0.0,\"#0d0887\"],[0.1111111111111111,\"#46039f\"],[0.2222222222222222,\"#7201a8\"],[0.3333333333333333,\"#9c179e\"],[0.4444444444444444,\"#bd3786\"],[0.5555555555555556,\"#d8576b\"],[0.6666666666666666,\"#ed7953\"],[0.7777777777777778,\"#fb9f3a\"],[0.8888888888888888,\"#fdca26\"],[1.0,\"#f0f921\"]]},\"colorway\":[\"#636efa\",\"#EF553B\",\"#00cc96\",\"#ab63fa\",\"#FFA15A\",\"#19d3f3\",\"#FF6692\",\"#B6E880\",\"#FF97FF\",\"#FECB52\"],\"font\":{\"color\":\"#2a3f5f\"},\"geo\":{\"bgcolor\":\"white\",\"lakecolor\":\"white\",\"landcolor\":\"#E5ECF6\",\"showlakes\":true,\"showland\":true,\"subunitcolor\":\"white\"},\"hoverlabel\":{\"align\":\"left\"},\"hovermode\":\"closest\",\"mapbox\":{\"style\":\"light\"},\"paper_bgcolor\":\"white\",\"plot_bgcolor\":\"#E5ECF6\",\"polar\":{\"angularaxis\":{\"gridcolor\":\"white\",\"linecolor\":\"white\",\"ticks\":\"\"},\"bgcolor\":\"#E5ECF6\",\"radialaxis\":{\"gridcolor\":\"white\",\"linecolor\":\"white\",\"ticks\":\"\"}},\"scene\":{\"xaxis\":{\"backgroundcolor\":\"#E5ECF6\",\"gridcolor\":\"white\",\"gridwidth\":2,\"linecolor\":\"white\",\"showbackground\":true,\"ticks\":\"\",\"zerolinecolor\":\"white\"},\"yaxis\":{\"backgroundcolor\":\"#E5ECF6\",\"gridcolor\":\"white\",\"gridwidth\":2,\"linecolor\":\"white\",\"showbackground\":true,\"ticks\":\"\",\"zerolinecolor\":\"white\"},\"zaxis\":{\"backgroundcolor\":\"#E5ECF6\",\"gridcolor\":\"white\",\"gridwidth\":2,\"linecolor\":\"white\",\"showbackground\":true,\"ticks\":\"\",\"zerolinecolor\":\"white\"}},\"shapedefaults\":{\"line\":{\"color\":\"#2a3f5f\"}},\"ternary\":{\"aaxis\":{\"gridcolor\":\"white\",\"linecolor\":\"white\",\"ticks\":\"\"},\"baxis\":{\"gridcolor\":\"white\",\"linecolor\":\"white\",\"ticks\":\"\"},\"bgcolor\":\"#E5ECF6\",\"caxis\":{\"gridcolor\":\"white\",\"linecolor\":\"white\",\"ticks\":\"\"}},\"title\":{\"x\":0.05},\"xaxis\":{\"automargin\":true,\"gridcolor\":\"white\",\"linecolor\":\"white\",\"ticks\":\"\",\"title\":{\"standoff\":15},\"zerolinecolor\":\"white\",\"zerolinewidth\":2},\"yaxis\":{\"automargin\":true,\"gridcolor\":\"white\",\"linecolor\":\"white\",\"ticks\":\"\",\"title\":{\"standoff\":15},\"zerolinecolor\":\"white\",\"zerolinewidth\":2}}},\"xaxis\":{\"anchor\":\"y\",\"domain\":[0.0,1.0],\"title\":{\"text\":\"G\\u00e9nero\"}},\"yaxis\":{\"anchor\":\"x\",\"domain\":[0.625,1.0],\"title\":{\"text\":\"Cantidad\"}},\"xaxis2\":{\"anchor\":\"y2\",\"domain\":[0.0,1.0],\"title\":{\"text\":\"G\\u00e9nero\"}},\"yaxis2\":{\"anchor\":\"x2\",\"domain\":[0.0,0.375],\"title\":{\"text\":\"Cantidad\"}},\"annotations\":[{\"font\":{\"size\":18},\"showarrow\":false,\"text\":\"Pel\\u00edculas\",\"x\":0.5,\"xanchor\":\"center\",\"xref\":\"paper\",\"y\":1.0,\"yanchor\":\"bottom\",\"yref\":\"paper\"},{\"font\":{\"size\":18},\"showarrow\":false,\"text\":\"Series\",\"x\":0.5,\"xanchor\":\"center\",\"xref\":\"paper\",\"y\":0.375,\"yanchor\":\"bottom\",\"yref\":\"paper\"}],\"title\":{\"font\":{\"size\":30},\"text\":\"Cantidad de pel\\u00edculas o series por g\\u00e9nero\",\"x\":0.5},\"showlegend\":false,\"height\":800,\"paper_bgcolor\":\"rgb(229, 237, 247)\",\"plot_bgcolor\":\"rgb(229, 237, 247)\"},                        {\"responsive\": true}                    ).then(function(){\n",
              "                            \n",
              "var gd = document.getElementById('f011a44c-477b-40f8-85e7-4b14057e108c');\n",
              "var x = new MutationObserver(function (mutations, observer) {{\n",
              "        var display = window.getComputedStyle(gd).display;\n",
              "        if (!display || display === 'none') {{\n",
              "            console.log([gd, 'removed!']);\n",
              "            Plotly.purge(gd);\n",
              "            observer.disconnect();\n",
              "        }}\n",
              "}});\n",
              "\n",
              "// Listen for the removal of the full notebook cells\n",
              "var notebookContainer = gd.closest('#notebook-container');\n",
              "if (notebookContainer) {{\n",
              "    x.observe(notebookContainer, {childList: true});\n",
              "}}\n",
              "\n",
              "// Listen for the clearing of the current output cell\n",
              "var outputEl = gd.closest('.output');\n",
              "if (outputEl) {{\n",
              "    x.observe(outputEl, {childList: true});\n",
              "}}\n",
              "\n",
              "                        })                };                            </script>        </div>\n",
              "</body>\n",
              "</html>"
            ]
          },
          "metadata": {}
        }
      ]
    },
    {
      "cell_type": "markdown",
      "source": [
        "##¿Cuál es la duración más frecuente de las  películas?"
      ],
      "metadata": {
        "id": "yN28eaOA4Eco"
      }
    },
    {
      "cell_type": "code",
      "source": [
        "sns.set(style='whitegrid', palette = 'Set3')\n",
        "sns.kdeplot(data=df_pelis['runtime'], shade=True)\n",
        "plt.show()"
      ],
      "metadata": {
        "id": "iqXngsHw4FSx",
        "colab": {
          "base_uri": "https://localhost:8080/",
          "height": 257
        },
        "outputId": "b77cc2e7-201e-495b-bb82-184255f28922"
      },
      "execution_count": 43,
      "outputs": [
        {
          "output_type": "display_data",
          "data": {
            "text/plain": [
              "<Figure size 1296x360 with 1 Axes>"
            ],
            "image/png": "[encoded data removed]"
          },
          "metadata": {}
        }
      ]
    },
    {
      "cell_type": "markdown",
      "source": [
        "<h4>Por lo tanto, una buena cantidad de películas en Netflix tienen una duración de 75 a 125 minutos."
      ],
      "metadata": {
        "id": "FayuxN0Q50il"
      }
    },
    {
      "cell_type": "markdown",
      "source": [
        "#**Conclusión**\n",
        "##El dataset elegido permite realizar muchas proyecciones respecto a los géneros de las producciones, cantidad de temporadas, público destinatario.\n",
        "\n",
        "<h3>Tiene mucho potencial para generar disparadores en las productoras de contenido\n",
        "<br>\n",
        "Seguir trabajándolo permitirá responder preguntas específicas como las planteadas en la hipótesis y será útil para generar una recomendación de acuerdo a los puntajes, los genéros, el país de producción.\n",
        "\n",
        "FALTAAAAA\n",
        "<h6>¿Cómo se califican las películas de terror frente a las comedias? Separar las películas de 'type'. De la columna 'genres' separar las de terror en un set y en otro las comedias. Comparar los puntajes en un gráfico con la/s columna/s de puntaje."
      ],
      "metadata": {
        "id": "5kG4YpSMEyx1"
      }
    }
  ]
}
